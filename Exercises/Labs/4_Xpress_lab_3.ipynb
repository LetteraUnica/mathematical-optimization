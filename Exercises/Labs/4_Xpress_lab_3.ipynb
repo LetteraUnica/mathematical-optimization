{
 "nbformat": 4,
 "nbformat_minor": 0,
 "metadata": {
  "colab": {
   "name": "4_Xpress_lab_3.ipynb",
   "provenance": [],
   "collapsed_sections": []
  },
  "kernelspec": {
   "name": "python3",
   "display_name": "Python 3"
  }
 },
 "cells": [
  {
   "cell_type": "markdown",
   "metadata": {
    "id": "kbC-CxzGX-sr",
    "pycharm": {
     "name": "#%% md\n"
    }
   },
   "source": [
    "# Solving LP problems with Xpress library\n",
    "\n",
    "https://www.msi-jp.com/xpress/learning/square/01-python-interface.pdf\n",
    "\n",
    "Andrea Gasparin: andrea.gasparin@PHD.units.it"
   ]
  },
  {
   "cell_type": "code",
   "metadata": {
    "colab": {
     "base_uri": "https://localhost:8080/"
    },
    "id": "rWmBr1HYRZfD",
    "outputId": "58546efb-1632-43b0-d5fe-9b059e6c916b",
    "pycharm": {
     "name": "#%%\n"
    }
   },
   "source": [
    "import xpress as xp\n",
    "import pandas as pd\n",
    "import numpy as np"
   ],
   "execution_count": 2,
   "outputs": []
  },
  {
   "cell_type": "markdown",
   "source": [
    "## Loading and setting data as Pandas dataframe"
   ],
   "metadata": {
    "id": "UKIWfNRQ7A6L",
    "pycharm": {
     "name": "#%% md\n"
    }
   }
  },
  {
   "cell_type": "code",
   "source": [
    "params = pd.read_csv(\"data1.csv\")"
   ],
   "metadata": {
    "id": "jNLPAANC6uFE",
    "pycharm": {
     "name": "#%%\n"
    }
   },
   "execution_count": 3,
   "outputs": []
  },
  {
   "cell_type": "markdown",
   "source": [
    "Access info and data"
   ],
   "metadata": {
    "id": "eFJHbT_s7aKS",
    "pycharm": {
     "name": "#%% md\n"
    }
   }
  },
  {
   "cell_type": "code",
   "source": [
    "print(params.columns) # name of the dataframe (df) columns, returned as a list\n",
    "print(params[\"value\"]) # get value column\n",
    "print(params.value) # alternative way to get value column"
   ],
   "metadata": {
    "id": "WLJJE6mZ7fE0",
    "pycharm": {
     "name": "#%%\n"
    }
   },
   "execution_count": 4,
   "outputs": [
    {
     "name": "stdout",
     "output_type": "stream",
     "text": [
      "Index(['param', 'origin', 'destination', 'type', 'value'], dtype='object')\n",
      "0        55\n",
      "1        12\n",
      "2        80\n",
      "3        13\n",
      "4       115\n",
      "       ... \n",
      "891    3800\n",
      "892    2300\n",
      "893    3800\n",
      "894    2300\n",
      "895    3800\n",
      "Name: value, Length: 896, dtype: int64\n",
      "0        55\n",
      "1        12\n",
      "2        80\n",
      "3        13\n",
      "4       115\n",
      "       ... \n",
      "891    3800\n",
      "892    2300\n",
      "893    3800\n",
      "894    2300\n",
      "895    3800\n",
      "Name: value, Length: 896, dtype: int64\n"
     ]
    }
   ]
  },
  {
   "cell_type": "markdown",
   "source": [
    "Get sub-dataframe by key"
   ],
   "metadata": {
    "id": "FQCHBSLt8ZEi",
    "pycharm": {
     "name": "#%% md\n"
    }
   }
  },
  {
   "cell_type": "code",
   "source": [
    "sub_df = params[(params.origin == \"SIN\") & (params.destination == \"RTM\")]\n",
    "print(sub_df)"
   ],
   "metadata": {
    "id": "PwnfoedB8Xr_",
    "pycharm": {
     "name": "#%%\n"
    }
   },
   "execution_count": 5,
   "outputs": [
    {
     "name": "stdout",
     "output_type": "stream",
     "text": [
      "    param origin destination  type  value\n",
      "0      DU    SIN         RTM  DC20     55\n",
      "1      DU    SIN         RTM  RC20     12\n",
      "56     DU    SIN         RTM  DC40     35\n",
      "57     DU    SIN         RTM  RC40      3\n",
      "112    VC    SIN         RTM  DC20    406\n",
      "113    VC    SIN         RTM  RC20    630\n",
      "168    VC    SIN         RTM  DC40    515\n",
      "169    VC    SIN         RTM  RC40    779\n",
      "224    DL    SIN         RTM  DC20     25\n",
      "225    DL    SIN         RTM  RC20      0\n",
      "280    DL    SIN         RTM  DC40      3\n",
      "281    DL    SIN         RTM  RC40      0\n",
      "336     F    SIN         RTM  DC20    100\n",
      "337     F    SIN         RTM  RC20    100\n",
      "448     F    SIN         RTM  DC40    100\n",
      "449     F    SIN         RTM  RC40    100\n",
      "560    EC    SIN         RTM  DC20    283\n",
      "561    EC    SIN         RTM  RC20    283\n",
      "616    EC    SIN         RTM  DC40    365\n",
      "617    EC    SIN         RTM  RC40    365\n",
      "672    WF    SIN         RTM  DC20     19\n",
      "673    WF    SIN         RTM  RC20     19\n",
      "728    WF    SIN         RTM  DC40     26\n",
      "729    WF    SIN         RTM  RC40     26\n",
      "784    FR    SIN         RTM  DC20   1050\n",
      "785    FR    SIN         RTM  RC20   2000\n",
      "840    FR    SIN         RTM  DC40   2100\n",
      "841    FR    SIN         RTM  RC40   3400\n"
     ]
    }
   ]
  },
  {
   "cell_type": "markdown",
   "source": [
    "Get single item by key"
   ],
   "metadata": {
    "id": "zuJ-NJbC8-9t",
    "pycharm": {
     "name": "#%% md\n"
    }
   }
  },
  {
   "cell_type": "code",
   "source": [
    "print(params[(params.param == \"FR\") & (params.origin == \"SIN\") & (params.destination == \"RTM\")].value.iloc[0])"
   ],
   "metadata": {
    "id": "lRL575JO9EVL",
    "pycharm": {
     "name": "#%%\n"
    }
   },
   "execution_count": 6,
   "outputs": [
    {
     "name": "stdout",
     "output_type": "stream",
     "text": [
      "1050\n"
     ]
    }
   ]
  },
  {
   "cell_type": "markdown",
   "source": [
    "Setting all parameters from data"
   ],
   "metadata": {
    "collapsed": false,
    "pycharm": {
     "name": "#%% md\n"
    }
   }
  },
  {
   "cell_type": "code",
   "source": [
    "FR = params[params[\"param\"] == \"FR\"].drop(columns=\"param\")\n",
    "VC = params[params[\"param\"] == \"VC\"].drop(columns=\"param\")\n",
    "EC = params[params[\"param\"] == \"EC\"].drop(columns=\"param\")\n",
    "\n",
    "N = range(params.origin.unique().shape[0])\n",
    "M = range(params.destination.unique().shape[0])\n",
    "K = range(params.type.unique().shape[0])\n",
    "\n",
    "MC_ = pd.merge(FR, VC, on=[\"origin\", \"destination\", \"type\"])\n",
    "MC_[\"value\"] = MC_.value_x - MC_.value_y\n",
    "MC = MC_[[\"origin\", \"destination\", \"type\", \"value\"]]\n",
    "\n",
    "F = params[params[\"param\"] == \"F\"].drop(columns=\"param\")\n",
    "IF = F.copy()\n",
    "\n",
    "if_value = []\n",
    "for row in F.iterrows():\n",
    "    line = row[1]\n",
    "    origin, destination, type_, f_ijk = line.origin, line.destination, line.type, line.value\n",
    "    f_jik = F[(F.origin == destination) & (F.destination == origin) & (F.type == type_)].value.iloc[0]\n",
    "\n",
    "    value = (f_ijk - f_jik) / f_ijk if f_ijk > f_jik else 0\n",
    "    if_value.append(value)\n",
    "\n",
    "IF.value = if_value\n",
    "\n",
    "CP = 3350  # The operational capacity of the vessel (unit: TEU)\n",
    "DW = 36510  # The dead weight tonnage of the vessel (unit: ton)\n",
    "\n",
    "WF = params[params[\"param\"] == \"WF\"].drop(columns=\"param\")\n",
    "WE = pd.read_csv(\"data_we.csv\")\n",
    "\n",
    "RF = 200  # The maximum reefer plug number of the vessel\n",
    "FE = 1135  # The maximum number of 40' containers loaded by the vessel\n",
    "\n",
    "DL = params[params[\"param\"] == \"DL\"].drop(columns=\"param\")\n",
    "DU = params[params[\"param\"] == \"DU\"].drop(columns=\"param\")\n",
    "CI = pd.read_csv(\"data_ci.csv\")"
   ],
   "metadata": {
    "id": "bCsYnzKo7NY3",
    "pycharm": {
     "name": "#%%\n"
    }
   },
   "execution_count": 7,
   "outputs": []
  },
  {
   "cell_type": "markdown",
   "source": [
    "Setting dicts to retrieve indexes by key"
   ],
   "metadata": {
    "id": "0Bx3gobi9ief",
    "pycharm": {
     "name": "#%% md\n"
    }
   }
  },
  {
   "cell_type": "code",
   "source": [
    "origins = DU.origin.unique()\n",
    "or_idx = dict(zip(origins, range(len(origins))))\n",
    "idx_to_or = dict(zip(range(len(origins)), origins))\n",
    "\n",
    "destinations = DU.destination.unique()\n",
    "des_idx = dict(zip(destinations, range(len(destinations))))\n",
    "idx_to_des = dict(zip(range(len(destinations)), destinations))\n",
    "\n",
    "cargo_types = DU.type.unique()\n",
    "type_idx = dict(zip(cargo_types, range(len(cargo_types))))\n",
    "idx_to_type = dict(zip(range(len(cargo_types)), cargo_types))"
   ],
   "metadata": {
    "id": "Skyx8lL29myb",
    "pycharm": {
     "name": "#%%\n"
    }
   },
   "execution_count": 8,
   "outputs": []
  },
  {
   "cell_type": "markdown",
   "source": [
    "Example of retrieve element by key"
   ],
   "metadata": {
    "collapsed": false,
    "pycharm": {
     "name": "#%% md\n"
    }
   }
  },
  {
   "cell_type": "code",
   "execution_count": 11,
   "outputs": [
    {
     "name": "stdout",
     "output_type": "stream",
     "text": [
      "    origin destination  type  value\n",
      "0      SIN         RTM  DC20     55\n",
      "1      SIN         RTM  RC20     12\n",
      "2      SIN         FXT  DC20     80\n",
      "3      SIN         FXT  RC20     13\n",
      "4      SIN         BRV  DC20    115\n",
      "..     ...         ...   ...    ...\n",
      "107    KHH         FXT  RC40      6\n",
      "108    KHH         BRV  DC40     50\n",
      "109    KHH         BRV  RC40      6\n",
      "110    KHH         LEH  DC40     25\n",
      "111    KHH         LEH  RC40      6\n",
      "\n",
      "[112 rows x 4 columns]\n",
      "55\n",
      "12\n",
      "35\n",
      "3\n",
      "80\n",
      "13\n",
      "29\n",
      "3\n",
      "115\n",
      "13\n",
      "36\n",
      "3\n",
      "25\n",
      "12\n",
      "20\n",
      "3\n",
      "45\n",
      "9\n",
      "41\n",
      "9\n",
      "55\n",
      "8\n",
      "50\n",
      "10\n",
      "75\n",
      "6\n",
      "70\n",
      "9\n",
      "10\n",
      "9\n",
      "18\n",
      "8\n",
      "20\n",
      "12\n",
      "27\n",
      "5\n",
      "24\n",
      "9\n",
      "29\n",
      "2\n",
      "47\n",
      "8\n",
      "45\n",
      "1\n",
      "15\n",
      "8\n",
      "19\n",
      "2\n",
      "10\n",
      "8\n",
      "29\n",
      "5\n",
      "15\n",
      "8\n",
      "26\n",
      "5\n",
      "19\n",
      "10\n",
      "31\n",
      "5\n",
      "10\n",
      "8\n",
      "23\n",
      "5\n",
      "18\n",
      "6\n",
      "37\n",
      "5\n",
      "21\n",
      "5\n",
      "25\n",
      "5\n",
      "30\n",
      "6\n",
      "36\n",
      "5\n",
      "11\n",
      "4\n",
      "20\n",
      "5\n",
      "15\n",
      "8\n",
      "29\n",
      "5\n",
      "19\n",
      "4\n",
      "26\n",
      "5\n",
      "17\n",
      "2\n",
      "30\n",
      "5\n",
      "15\n",
      "5\n",
      "30\n",
      "5\n",
      "25\n",
      "6\n",
      "45\n",
      "6\n",
      "41\n",
      "5\n",
      "28\n",
      "6\n",
      "60\n",
      "8\n",
      "50\n",
      "6\n",
      "13\n",
      "7\n",
      "25\n",
      "6\n"
     ]
    }
   ],
   "source": [
    "print(DU)\n",
    "for i in origins:\n",
    "    for j in destinations:\n",
    "        for k in cargo_types:\n",
    "            print(DU[(DU.origin == i) & (DU.destination == j) & (DU.type == k)].value.iloc[0])"
   ],
   "metadata": {
    "collapsed": false,
    "pycharm": {
     "name": "#%%\n"
    }
   }
  },
  {
   "cell_type": "markdown",
   "source": [
    "Use the dict to operate on the matrix"
   ],
   "metadata": {
    "id": "OWZ0ud0f9q57",
    "pycharm": {
     "name": "#%% md\n"
    }
   }
  },
  {
   "cell_type": "code",
   "execution_count": 13,
   "outputs": [
    {
     "name": "stdout",
     "output_type": "stream",
     "text": [
      "(11, 11, 4)\n"
     ]
    },
    {
     "data": {
      "text/plain": "756"
     },
     "execution_count": 13,
     "metadata": {},
     "output_type": "execute_result"
    }
   ],
   "source": [
    "y = np.array([[[k*j*i for k in K] for j in N] for i in M])\n",
    "print(y.shape)\n",
    "\n",
    "sum([y[or_idx[i], des_idx[j], type_idx[k]] for i in origins for j in destinations for k in cargo_types])"
   ],
   "metadata": {
    "collapsed": false,
    "pycharm": {
     "name": "#%%\n"
    }
   }
  },
  {
   "cell_type": "code",
   "execution_count": null,
   "outputs": [],
   "source": [],
   "metadata": {
    "collapsed": false,
    "pycharm": {
     "name": "#%%\n"
    }
   }
  }
 ]
}