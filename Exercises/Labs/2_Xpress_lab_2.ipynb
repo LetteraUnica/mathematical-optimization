{
  "nbformat": 4,
  "nbformat_minor": 0,
  "metadata": {
    "colab": {
      "name": "2_Xpress_lab_2.ipynb",
      "provenance": [],
      "collapsed_sections": []
    },
    "kernelspec": {
      "name": "python3",
      "display_name": "Python 3"
    }
  },
  "cells": [
    {
      "cell_type": "markdown",
      "metadata": {
        "id": "kbC-CxzGX-sr"
      },
      "source": [
        "# Solving LP problems with Xpress library\n",
        "\n",
        "https://www.msi-jp.com/xpress/learning/square/01-python-interface.pdf\n",
        "\n",
        "Andrea Gasparin: andrea.gasparin@PHD.units.it"
      ]
    },
    {
      "cell_type": "code",
      "metadata": {
        "colab": {
          "base_uri": "https://localhost:8080/"
        },
        "id": "rWmBr1HYRZfD",
        "outputId": "af4ea7c2-08a6-4db8-97f1-be2579232168"
      },
      "source": [
        "# install xpress (the solvere we will use)\n",
        "!pip install xpress\n",
        "# import xpress (usually as xp)\n",
        "import xpress as xp\n",
        "import numpy as np"
      ],
      "execution_count": null,
      "outputs": [
        {
          "output_type": "stream",
          "name": "stdout",
          "text": [
            "Collecting xpress\n",
            "  Downloading xpress-8.13.5-cp37-cp37m-manylinux1_x86_64.whl (65.6 MB)\n",
            "\u001b[K     |████████████████████████████████| 65.6 MB 25 kB/s \n",
            "\u001b[?25hRequirement already satisfied: numpy>=1.8 in /usr/local/lib/python3.7/dist-packages (from xpress) (1.21.6)\n",
            "Installing collected packages: xpress\n",
            "Successfully installed xpress-8.13.5\n",
            "Using the Community license in this session. If you have a full Xpress license, first set the XPAUTH_PATH environment variable to the full path to your license file, xpauth.xpr, and then restart Python. If you want to use the FICO Community license and no longer want to see this message, set the XPAUTH_PATH environment variable to: /usr/local/lib/python3.7/dist-packages/xpress/license/community-xpauth.xpr\n",
            "NB: setting XPAUTH_PATH will also affect any other Xpress products installed on your system.\n"
          ]
        }
      ]
    },
    {
      "cell_type": "markdown",
      "metadata": {
        "id": "RV9-oBCm1t5e"
      },
      "source": [
        "\n",
        "#The assignment problem\n",
        "\n",
        "A company has 4 machines available for the assignment to 4 tasks. Any\n",
        "machine can be assigned to any task, but only one, and each task requires to be processed\n",
        "by one machine only. The cost required to set up each machine for the\n",
        "processing of each task is given in the table below.\n",
        "\n",
        " .|Task 1 |Task 2 |Task 3 |Task 4\n",
        "-------|-------|-------|-------|------\n",
        "Machine 1|13| 4| 7| 6\n",
        "Machine 2| 1| 11 |5 |4\n",
        "Machine 3| 6 |7 |2 |8\n",
        "Machine 4| 1| 3| 5| 9\n",
        "\n",
        "The company wants to minimise the total setup cost needed for the\n",
        "processing of all four tasks.\n",
        "\n",
        "It is intuitive to assign the decision variables as:\n",
        "\n",
        "$$\n",
        "x_{ij} = \\begin{cases} &1 \\quad \\text{if machine $i$ is assigned to process task $j$}\\\\\n",
        "&0 \\quad \\text{if machine $i$ is not assigned to process task $j$}\n",
        "\\end{cases}\n",
        "$$\n",
        "with $i = 1, 2, 3, 4$ and $j = 1, 2, 3, 4$.\n",
        "\n",
        "The problem can be then formulated as follow:\n",
        "\n",
        "\n",
        "$\n",
        "\\begin{gather}\n",
        "\\min 13x_{11} + 4x_{12} + 7x_{13} + 6x_{14}+\n",
        "x_{21} + 11x_{22} + 5x_{23} + 4x_{24}+\n",
        "6x_{31} + 7x_{32} + 2x_{33} + 8x_{34}+\n",
        "x_{41} + 3x_{42} + 5x_{43} + 9x_{44}\\\\\n",
        "x_{11} + x_{12} + x_{13} + x_{14} \\leq 1\\\\\n",
        "x_{21} + x_{22} + x_{23} + x_{24} \\leq 1\\\\\n",
        "x_{31} + x_{32} + x_{33} + x_{34} \\leq 1\\\\\n",
        "x_{41} + x_{42} + x_{43} + x_{44} \\leq 1\\\\\n",
        "x_{11} + x_{21} + x_{31} + x_{41} = 1\\\\\n",
        "x_{12} + x_{22} + x_{32} + x_{42} = 1\\\\\n",
        "x_{13} + x_{23} + x_{33} + x_{43} = 1\\\\\n",
        "x_{14} + x_{24} + x_{34} + x_{44} = 1\\\\\n",
        "x_{ij} \\in \\{0, 1\\},\\quad for\\quad i = 1, . . . , 4,\\; j = 1, . . . , 4\n",
        "\\end{gather}\n",
        "$\n",
        "\n",
        "Equivalently, defining \n",
        "\n",
        "$$\n",
        "c_{ij} = \\text{cost of machine $i$ to perform task $j$}\\\\\n",
        "I = \\{1,2,3,4\\}\\\\\n",
        "J = \\{1,2,3,4\\}\n",
        "$$\n",
        "\n",
        "we can rewrite the problem in a more compact way as:\n",
        "\n",
        "$\n",
        "\\begin{gather}\n",
        "\\min \\sum_{i\\in I,j\\in J} c_{ij}x_{ij}\\\\\n",
        "∑_{j\\in J} x_{ij}  \\leq 1 \\quad \\forall i \\in I\\\\\n",
        "∑_{i\\in I} x_{ij}  = 1 \\quad \\forall j \\in J\\\\\n",
        "x_{ij} \\in \\{0, 1\\},\\quad for\\quad i \\in I,\\; j \\in J\n",
        "\\end{gather}\n",
        "$"
      ]
    },
    {
      "cell_type": "code",
      "metadata": {
        "id": "c7KwQB0QZN5n",
        "colab": {
          "base_uri": "https://localhost:8080/"
        },
        "outputId": "98aef8a9-42aa-4328-bcf4-513ef1e1e0b0"
      },
      "source": [
        "assignment = xp.problem()\n",
        "assignment.setControl('outputlog', 0) #this is used to quite the xpress outputs (no printing)\n",
        "\n",
        "X = np.array([[xp.var(vartype=xp.binary) for i in range(4)]for j in range(4)], dtype=xp.npvar)\n",
        "assignment.addVariable(X)\n",
        "\n",
        "I = range(4)\n",
        "J = range(4)\n",
        "\n",
        "costs = np.array([[13,\t4,\t7, 6],\n",
        "                \t[1,\t11,\t5, 4],\n",
        "                  [6,\t7,\t2, 8],\n",
        "                  [1,\t3,\t5, 9]])\n",
        "\n",
        "\n",
        "for i in I:\n",
        "  assignment.addConstraint( xp.Sum(X[i,j] for j in J) <= 1)\n",
        "\n",
        "for j in J:\n",
        "  assignment.addConstraint( xp.Sum(X[i,j] for i in I) == 1 )\n",
        "\n",
        "assignment.setObjective( \n",
        "    xp.Sum( xp.Sum(costs[i,j]*X[i,j]   for j in J )  for i in I)\n",
        "    )   #sense=minimise is the default value\n",
        "\n",
        "assignment.solve()\n",
        "\n",
        "X_sol = assignment.getSolution(X)\n",
        "print(\"\\n\\n Solution:\\n\",X_sol, \"\\n\")\n",
        "\n",
        "for i in I:\n",
        "  for j in J:\n",
        "    if X_sol[i,j] > 0.9: #==1\n",
        "      print(\"Machine \", i, \" is assigned to task \", j)"
      ],
      "execution_count": null,
      "outputs": [
        {
          "output_type": "stream",
          "name": "stdout",
          "text": [
            "\n",
            "\n",
            " Solution:\n",
            " [[-0.  1. -0. -0.]\n",
            " [-0. -0. -0.  1.]\n",
            " [-0. -0.  1. -0.]\n",
            " [ 1. -0. -0. -0.]] \n",
            "\n",
            "Machine  0  is assigned to task  1\n",
            "Machine  1  is assigned to task  3\n",
            "Machine  2  is assigned to task  2\n",
            "Machine  3  is assigned to task  0\n"
          ]
        }
      ]
    },
    {
      "cell_type": "markdown",
      "metadata": {
        "id": "RKdEpq1NmQJe"
      },
      "source": [
        "#Set covering\n",
        "\n",
        "\n",
        "A typical application concerns facility location. Suppose we are given a\n",
        "set of potential sites $N = \\{1, . . . , n\\}$ for the location of fire stations. A\n",
        "station placed at $j$ costs $c_j$ . We are also given a set of communities\n",
        "$M = \\{1, . . . , m\\}$ that have to be protected. The subset of communities\n",
        "that can be protected from a station located at $j$ is $M_j$ . For example,\n",
        "$M_j$ might be the set of communities that can be reached from $j$ within 10\n",
        "minutes. Then the problem of choosing a minimum-cost set of locations\n",
        "for the fire stations such that each community can be reached from some\n",
        "fire station in 10 minutes is a set-covering problem.\n",
        "\n",
        "### Decision variables\n",
        "\n",
        "$$\n",
        "x_{j} = \\begin{cases} &1 \\quad \\text{if} \\; \\text{a station is placed in $j$}\\\\\n",
        "&0 \\quad \\text{otherwise}\n",
        "\\end{cases}\n",
        "$$\n",
        "\n",
        "### Obj\n",
        "\n",
        "$$\n",
        "\\min \\;\\sum_{j=1}^n c_j x_{j}\n",
        "$$\n",
        "\n",
        "###Constraints \n",
        "Let A be the $m \\times n$ incidence matrix of the family $\\{M_j\\}$ for $j \\in N$, that is, for $i \\in M$,\n",
        "\n",
        "$$\n",
        "a_{ij} =\\begin{cases} &1 \\quad \\text{if}\\; i \\in M_j\\\\\n",
        "&0 \\quad \\text{otherwise}\n",
        "\\end{cases}\n",
        "$$\n",
        "A solution $x \\in \\{0, 1\\}^n$ covers all sites if and only if  satisfies\n",
        "$$\n",
        "Ax ≥ \\overline{1}\n",
        "$$\n",
        "where $\\overline{1}$ is a $m$−vector all of whose components are equal to 1.\n",
        "\n",
        "\n",
        "###In this case\n",
        "Let \n",
        "$$\n",
        "M = \\{1, 2, 3, 4, 5\\}, \\\\\n",
        "\\{M\\} = \\{\\{1, 3, 5\\}, \\{2, 3\\}, \\{1, 4\\}, \\{3, 4, 5\\}, \\{2\\}, \\{5\\}, \\{1, 5\\}\\},\\\\\n",
        "c = [3, 5, 1, 9, 2, 4, 1].\n",
        "$$\n",
        " Hence,\n",
        "$$\n",
        "A=\n",
        "\\begin{pmatrix}\n",
        "1 &0 &1 &0 &0 &0 &1\\\\\n",
        "0 &1 &0 &0 &1 &0 &0\\\\\n",
        "1 &1 &0 &1 &0 &0 &0\\\\\n",
        "0 &0 &1 &1 &0 &0 &0\\\\\n",
        "1 &0 &0 &1 &0 &1 &1\\\\\n",
        "\\end{pmatrix}\n",
        "$$"
      ]
    },
    {
      "cell_type": "code",
      "metadata": {
        "colab": {
          "base_uri": "https://localhost:8080/"
        },
        "id": "55XzeU1wmQ0F",
        "outputId": "bc250cf7-9e02-4049-ee75-633ad64a809d"
      },
      "source": [
        "set_covering= xp.problem()\n",
        "set_covering.setControl('outputlog', 0)\n",
        "\n",
        "costs = np.array([3,5,1,9,2,4,1])\n",
        "\n",
        "A = np.array([[1, 0, 1, 0, 0, 0, 1],\n",
        "              [0, 1, 0, 0, 1, 0, 0],\n",
        "              [1, 1, 0, 1, 0, 0, 0],\n",
        "              [0, 0, 1, 1, 0, 0, 0],\n",
        "              [1, 0, 0, 1, 0, 1, 1]])\n",
        "b = np.ones(5)\n",
        "x = np.array([xp.var(vartype=xp.binary) for _ in range(7)], dtype=xp.npvar)\n",
        "\n",
        "set_covering.addVariable(x)\n",
        "set_covering.addConstraint(xp.Dot(A,x) >= b )\n",
        "set_covering.setObjective(xp.Dot(costs, x) , sense= xp.minimize)\n",
        "\n",
        "set_covering.solve()\n",
        "\n",
        "x_sol = set_covering.getSolution(x)\n",
        "print(\"\\n\\n\",x_sol)\n"
      ],
      "execution_count": null,
      "outputs": [
        {
          "output_type": "stream",
          "name": "stdout",
          "text": [
            "\n",
            "\n",
            " [1. 0. 1. 0. 1. 0. 0.]\n",
            "\n"
          ]
        }
      ]
    },
    {
      "cell_type": "markdown",
      "metadata": {
        "id": "8-O7NhEgNswq"
      },
      "source": [
        "## Parameter tuning"
      ]
    },
    {
      "cell_type": "code",
      "metadata": {
        "colab": {
          "base_uri": "https://localhost:8080/"
        },
        "id": "t5zJ5iHnQ-RF",
        "outputId": "caba7a27-a401-486e-f29c-8bd148d24aba"
      },
      "source": [
        "print(set_covering.getControl())\n",
        "print(type(set_covering.getControl()))"
      ],
      "execution_count": null,
      "outputs": [
        {
          "output_type": "stream",
          "name": "stdout",
          "text": [
            "{'extrarows': 0, 'extracols': 0, 'extraelems': 0, 'lpiterlimit': 2147483647, 'ifmsg': 0, 'lplog': 100, 'scaling': 163, 'presolve': 1, 'crash': 2, 'pricingalg': 0, 'invertfreq': -1, 'invertmin': 3, 'maxnode': 2147483647, 'maxtime': 0, 'maxmipsol': 0, 'siftpasses': 4, 'defaultalg': 1, 'varselection': -1, 'nodeselection': 4, 'backtrack': 3, 'miplog': -100, 'keepnrows': -1, 'mpsecho': 0, 'maxpagelines': 23, 'outputlog': 0, 'extrapresolve': 0, 'barsolution': 0, 'cachesize': -1, 'crossover': -1, 'bariterlimit': 500, 'choleskyalg': -1, 'baroutput': 1, 'extramipents': 0, 'refactor': -1, 'barthreads': -1, 'keepbasis': 1, 'omniformat': 0, 'ifecho': 0, 'crossoverops': 0, 'version': 3901, 'crossoverthreads': -1, 'bigmmethod': 1, 'elimfillin': 10, 'nppass': -1, 'nrpass': -1, 'presolveops': 511, 'mippresolve': -1, 'mipthreads': -1, 'barorder': 0, 'breadthfirst': 11, 'iquiet': 0, 'autoperturb': 1, 'densecollimit': 0, 'prtcut': 0, 'callbackfrommasterthread': 0, 'maxmcoeffbufferelems': 2147483647, 'refineops': 19, 'lprefineiterlimit': -1, 'miprefineiterlimit': -1, 'dualizeops': 1, 'crossoveriterlimit': 2147483647, 'prebasisred': 0, 'presort': 0, 'prepermute': 0, 'prepermuteseed': 1, 'maxmemorysoft': 0, 'prcutoff': 1, 'ifcutoff': 0, 'cutfreq': -1, 'symselect': -1, 'symmetry': 1, 'maxmemoryhard': 0, 'lpthreads': -1, 'miqcpalg': -1, 'qccuts': -1, 'qcrootalg': -1, 'preconvertseparable': -1, 'algafternetwork': -1, 'trace': 0, 'maxiis': -1, 'cputime': 0, 'covercuts': -1, 'gomcuts': -1, 'lpfolding': -1, 'mpsformat': 1, 'cutstrategy': -1, 'cutdepth': -1, 'treecovercuts': -1, 'treegomcuts': -1, 'cutselect': -1, 'treecutselect': -257, 'dualize': -1, 'dualgradient': -1, 'sbiterlimit': -1, 'sbbest': -1, 'maxcuttime': 0, 'oldnames': 0, 'activeset': 1, 'barindeflimit': 15, 'heurstrategy': -1, 'heurfreq': -1, 'heurdepth': -1, 'heurmaxsol': -1, 'heurnodes': -1, 'conbranch': 1, 'lnpbest': 50, 'lnpiterlimit': -1, 'branchchoice': 0, 'barregularize': -1, 'sbselect': -2, 'localchoice': 3, 'localbacktrack': 4, 'cutscale': 1, 'dualstrategy': 1, 'l1cache': -1, 'v14log': 0, 'heurdivestrategy': -1, 'heurselect': -5, 'keepartificials': 0, 'barstart': 0, 'barsave': 0, 'elimdensecollimit': 2147483647, 'presolvepasses': 1, 'presolvestrategy': -1, 'mipbasis': 0, 'barnumstability': 0, 'barorderthreads': 0, 'mippostsolve': 2, 'extrasets': 0, 'extrasetelems': 0, 'feaspumpitlim': 450, 'feasibilitypump': -1, 'precoefelim': 2, 'predomcol': -1, 'heursearchfreq': -1, 'heurdivespeedup': -1, 'sbestimate': -1, 'lppostsolve': 1, 'profile': 0, 'barcores': -1, 'maxchecksonmaxtime': 0, 'maxchecksonmaxcuttime': 0, 'mutexifstopaccess': 0, 'historycosts': -1, 'lpquickpresolve': 1, 'algaftercrossover': 1, 'linelength': 2048, 'mutexcallbacks': 1, 'barcrash': 4, 'calclastgetlpchecksum': 0, 'calclastgetlpchecksum_trunc': 0, 'heurdivesoftrounding': -1, 'heursearchrootselect': 117, 'heursearchtreeselect': 17, 'modelcuts': 5, 'treemodelcuts': 1, 'delayedrowstrategy': 1, 'mps18compatible': 0, 'rootpresolve': -1, 'mipthreadselect': 0, 'crossoverdrp': 5, 'forceoutput': 0, 'preelimpass': 50, 'primalops': -1, 'deterministic': 1, 'synclimit': 250, 'preprobing': -1, 'extraqcelements': 0, 'extraqcrows': 0, 'treememorylimit': 0, 'treecompression': 2, 'treediagnostics': 7, 'maxglobalfilesize': 0, 'precliquestrategy': -1, 'repairinfeasmaxtime': 0, 'ifcheckconvexity': 1, 'primalunshift': 0, 'repairindefiniteq': 1, 'miprampup': -1, 'maxlocalbacktrack': -1, 'usersolheuristic': -1, 'forceparalleldual': 0, 'backtracktie': -1, 'branchdisj': -1, 'mipfracreduce': -1, 'concurrentthreads': -1, 'maxscalefactor': 64, 'heurthreads': 0, 'threads': -1, 'heurbeforelp': -1, 'predomrow': -1, 'branchstructural': -1, 'quadraticunshift': -1, 'ignorecallbackcontextcheck': 0, 'barpresolveops': 0, 'qsimplexops': 0, 'miprestart': -1, 'conflictcuts': -1, 'preprotectdual': 0, 'corespercpu': -1, 'resourcestrategy': 0, 'clamping': 0, 'sleeponthreadwait': -1, 'preduprow': -1, 'cpuplatform': -1, 'baralg': -1, 'sifting': -1, 'lplogstyle': 1, 'randomseed': 1, 'treeqccuts': -1, 'prelindep': -1, 'dualthreads': -1, 'preobjcutdetect': 1, 'prebndredquad': -1, 'prebndredcone': -1, 'precomponents': -1, 'maxmiptasks': -1, 'mipterminationmethod': 0, 'preconedecomp': -1, 'heurforcespecialobj': 0, 'heursearchrootcutfreq': -1, 'preelimquad': -1, 'preimplications': -1, 'mipdivestalllimit': -1, 'tunermode': -1, 'tunermethod': -1, 'tunertarget': -1, 'tunerthreads': 1, 'tunermaxtime': 0, 'tunerhistory': 2, 'tunerpermute': 0, 'tunerrootalg': 0, 'tunerverbose': 1, 'tuneroutput': 1, 'preanalyticcenter': -1, 'netcuts': 0, 'lpflags': 0, 'mipkappafreq': 0, 'objscalefactor': 0, 'globalfileloginterval': 60, 'ignorecontainercpulimit': 0, 'ignorecontainermemorylimit': 0, 'mipdualreductions': 1, 'genconsdualreductions': 1, 'pwldualreductions': 1, 'barfailiterlimit': 0, 'autoscaling': -1, 'genconsabstransformation': -1, 'computejobpriority': 0, 'prefolding': -1, 'compute': 0, 'netstalllimit': -1, 'serializepreintsol': 0, 'pwlnonconvextransformation': -1, 'mipcomponents': -1, 'mipconcurrentnodes': -1, 'mipconcurrentsolves': 0, 'outputcontrols': 1, 'siftswitch': -1, 'heuremphasis': -1, 'computematx': 0, 'computematx_iis': 0, 'computematx_iismaxtime': 300, 'barrefiter': 0, 'computelog': 1, 'siftpresolveops': -1, 'escapenames': 1, 'iotimeout': 30, 'maxstalltime': 0, 'autocutting': -1, 'matrixtol': 1e-09, 'pivottol': 1e-09, 'feastol': 1e-06, 'outputtol': 1e-05, 'sosreftol': 1e-06, 'optimalitytol': 1e-06, 'etatol': 1e-13, 'relpivottol': 1e-06, 'miptol': 5e-06, 'miptoltarget': 0.0, 'barperturb': 0.0, 'mipaddcutoff': -0.999995, 'mipabscutoff': 1e+40, 'miprelcutoff': 0.0001, 'pseudocost': 0.01, 'penalty': 1.0, 'ppfact': 0.5, 'bigm': 1.0, 'mipabsstop': 0.0, 'miprelstop': 0.0001, 'cutlevel': 1.0, 'crossoveraccuracytol': 1e-06, 'primalperturb': -1.0, 'dualperturb': -1.0, 'barobjscale': -1.0, 'barrhsscale': -1.0, 'choleskytol': 1e-15, 'bargapstop': 0.0, 'bardualstop': 0.0, 'barprimalstop': 0.0, 'barstepstop': 1e-16, 'elimtol': 0.001, 'pcrash': 0.3, 'perturb': 0.0, 'markowitztol': 0.01, 'mipabsgapnotify': -1.0, 'miprelgapnotify': -1.0, 'barlargebound': 0.0, 'ppfactor': 1.0, 'repairindefiniteqmax': 1000.0, 'bargaptarget': 0.0, 'barstartweight': 0.85, 'barfreescale': 1e-06, 'sbeffort': 1.0, 'heurdiverandomize': 0.0, 'heursearcheffort': 1.0, 'cutfactor': -1.0, 'eigenvaluetol': 1e-06, 'indlinbigm': 100000.0, 'treememorysavingtarget': 0.4, 'globalfilebias': 0.5, 'indprelinbigm': 100.0, 'relaxtreememorylimit': 0.1, 'mipabsgapnotifyobj': -1e+20, 'mipabsgapnotifybound': 1e+20, 'presolvemaxgrow': 0.1, 'heursearchtargetsize': -1.0, 'crossoverrelpivottol': 0.0001, 'crossoverrelpivottolsafe': 0.01, 'detlogfreq': 200.0, 'maximpliedbound': 100000000.0, 'feastoltarget': 0.0, 'optimalitytoltarget': 0.0, 'precomponentseffort': 1.0, 'lplogdelay': 1.0, 'heurdiveiterlimit': -1.0, 'barkernel': 0.0, 'feastolperturb': 1e-06, 'crossoverfeasweight': 1000000000000.0, 'lupivottol': 0.0, 'miprestartgapthreshold': 0.02, 'nodeprobingeffort': 1.0, 'inputtol': 0.0, 'miprestartfactor': 1.0, 'barobjperturb': 1e-06, 'mpsrhsname': '', 'mpsobjname': '', 'mpsrangename': '', 'mpsboundname': '', 'outputmask': '????????', 'probname': 'noname', 'matrixfilename': 'noname', 'heurdiveuse': 'Automatic', 'heurdivetest': 'Automatic', 'tunermethodfile': '', 'tuneroutputpath': 'tuneroutput', 'tunersessionname': '', 'computeexecservice': '', 'xslp_damp': 1.0, 'xslp_dampexpand': 1.0, 'xslp_dampshrink': 1.0, 'xslp_delta_a': 0.001, 'xslp_delta_r': 0.001, 'xslp_delta_z': 1e-05, 'xslp_deltacost': 200.0, 'xslp_deltamaxcost': 1e+20, 'xslp_djtol': 1e-06, 'xslp_errorcost': 200.0, 'xslp_errormaxcost': 1e+20, 'xslp_errortol_a': 1e-05, 'xslp_errortol_r': 0.0, 'xslp_expand': 2.0, 'xslp_infinity': 10000000000.0, 'xslp_maxweight': 100.0, 'xslp_minweight': 0.01, 'xslp_shrink': 0.5, 'xslp_zero': 1e-15, 'xslp_tolcontrolstart': -1.0, 'xslp_ctol': -1.0, 'xslp_atol_a': -1.0, 'xslp_atol_r': -1.0, 'xslp_mtol_a': -1.0, 'xslp_mtol_r': -1.0, 'xslp_itol_a': -1.0, 'xslp_itol_r': -1.0, 'xslp_stol_a': -1.0, 'xslp_stol_r': -1.0, 'xslp_mvtol': -1.0, 'xslp_xtol_a': -1.0, 'xslp_xtol_r': -1.0, 'xslp_tolcontrolend': 16.0, 'xslp_defaultstepbound': 16.0, 'xslp_dampmax': 1.0, 'xslp_dampmin': 1.0, 'xslp_deltacostfactor': 1.3, 'xslp_errorcostfactor': 1.3, 'xslp_errortol_p': 0.0001, 'xslp_cascadetol_pa': 0.01, 'xslp_cascadetol_pr': 0.01, 'xslp_defaultiv': 100.0, 'xslp_objsense': 1.0, 'xslp_otol_a': -1.0, 'xslp_otol_r': -1.0, 'xslp_delta_x': 1e-06, 'xslp_granularity': 4.0, 'xslp_mipcutoff_a': 1e-05, 'xslp_mipcutoff_r': 1e-05, 'xslp_mipotol_a': 1e-05, 'xslp_mipotol_r': 1e-05, 'xslp_memoryfactor': 1.6, 'xslp_validationtol_a': 1e-05, 'xslp_validationtol_r': 1e-05, 'xslp_escalation': 1.25, 'xslp_objtopenaltycost': 0.0, 'xslp_shrinkbias': 0.0, 'xslp_feastoltarget': 0.0, 'xslp_optimalitytoltarget': 0.0, 'xslp_delta_infinity': 1000000000000000.0, 'xslp_primalintegralref': 1e+20, 'xslp_primalintegralalpha': 0.0, 'xslp_vtol_a': -1.0, 'xslp_vtol_r': -1.0, 'xslp_etol_a': 0.0001, 'xslp_etol_r': 0.0001, 'xslp_evtol_a': -1.0, 'xslp_evtol_r': -1.0, 'xslp_delta_zero': -1.0, 'xslp_minsbfactor': 1.0, 'xslp_clampvalidationtol_a': 1e-06, 'xslp_clampvalidationtol_r': 1e-06, 'xslp_clampshrink': 0.3, 'xslp_ecftol_a': -1.0, 'xslp_ecftol_r': -1.0, 'xslp_wtol_a': -1.0, 'xslp_wtol_r': -1.0, 'xslp_presolvezero': 1e-09, 'xslp_matrixtol': 0.0, 'xslp_drfixrange': 0.1, 'xslp_drcoltol': 1e-06, 'xslp_meritlambda': 0.0, 'xslp_miperrortol_a': 0.0, 'xslp_miperrortol_r': 0.0, 'xslp_cdtol_a': 1e-08, 'xslp_cdtol_r': 1e-08, 'xslp_enforcemaxcost': 100000000000.0, 'xslp_enforcecostshrink': 1e-05, 'xslp_msmaxboundrange': 1000.0, 'xslp_validationtol_k': 1e-05, 'xslp_presolve_elimtol': 0.001, 'xslp_drcoldjtol': 0.0, 'xslp_validationtarget_r': 1e-06, 'xslp_validationtarget_k': 1e-06, 'xslp_validationfactor': 0.001, 'xslp_barstallingtol': 0.05, 'xslp_objthreshold': 1000000000000000.0, 'xslp_boundthreshold': 10000000000.0, 'xslp_algorithm': 166, 'xslp_augmentation': 12, 'xslp_barlimit': 0, 'xslp_cascade': 257, 'xslp_cascadeflimit': 0, 'xslp_cascadenlimit': 10, 'xslp_control': 0, 'xslp_dampstart': 0, 'xslp_cutstrategy': 0, 'xslp_deltazlimit': 0, 'xslp_funceval': 0, 'xslp_infeascheck': 0, 'xslp_infeaslimit': 3, 'xslp_iterlimit': -1, 'xslp_log': 0, 'xslp_samecount': 3, 'xslp_samedamp': 3, 'xslp_sbstart': 8, 'xslp_xcount': 5, 'xslp_xlimit': 100, 'xslp_memorystart': 10, 'xslp_extraufs': 10, 'xslp_keepequalscolumn': 0, 'xslp_delayupdaterows': 2, 'xslp_autosave': 0, 'xslp_analyze': 0, 'xslp_ocount': 5, 'xslp_evaluate': 0, 'xslp_unused_12335': 0, 'xslp_mipalgorithm': 17, 'xslp_miprelaxstepbounds': 15, 'xslp_mipfixstepbounds': 0, 'xslp_mipiterlimit': 0, 'xslp_mipcutofflimit': 10, 'xslp_mipocount': 5, 'xslp_mipdefaultalgorithm': 1, 'xslp_presolve': 1, 'xslp_slplog': 1, 'xslp_miplog': 0, 'xslp_deltaoffset': 0, 'xslp_updateoffset': 0, 'xslp_erroroffset': 0, 'xslp_sbrowoffset': 0, 'xslp_solver': -1, 'xslp_stopoutofrange': 0, 'xslp_disableapichecks': 0, 'xslp_vcount': 0, 'xslp_vlimit': 0, 'xslp_threadsafeuserfunc': 0, 'xslp_jacobian': -1, 'xslp_hessian': -1, 'xslp_multistart': -1, 'xslp_multistart_threads': -1, 'xslp_multistart_maxsolves': -1, 'xslp_multistart_maxtime': 0, 'xslp_maxtime': 0, 'xslp_scale': 1, 'xslp_scalecount': 0, 'xslp_ecfcheck': 1, 'xslp_mipcutoffcount': 5, 'xslp_derivatives': 1, 'xslp_wcount': 0, 'xslp_presolvepasslimit': 20, 'xslp_unfinishedlimit': 3, 'xslp_convergenceops': 7167, 'xslp_zerocriterion': 0, 'xslp_zerocriterionstart': 0, 'xslp_zerocriterioncount': 0, 'xslp_lspatternlimit': 0, 'xslp_lsiterlimit': 0, 'xslp_lsstart': 8, 'xslp_penaltyinfostart': 3, 'xslp_decompose': 0, 'xslp_filter': 3, 'xslp_tracemaskops': -1, 'xslp_lszerolimit': 5, 'xslp_decomposepasslimit': 0, 'xslp_reformulate': 511, 'xslp_presolveops': 2104, 'xslp_autotune': 1, 'xslp_multistart_log': 0, 'xslp_multistart_seed': 0, 'xslp_multistart_poolsize': 2, 'xslp_postsolve': 1, 'xslp_deterministic': 1, 'xslp_heurstrategy': -1, 'xslp_echoxprsmessages': -1, 'xslp_presolvelevel': 4, 'xslp_probing': -1, 'xslp_calcthreads': -1, 'xslp_threads': -1, 'xslp_barcrossoverstart': 0, 'xslp_barstallinglimit': 3, 'xslp_barstallingobjlimit': 3, 'xslp_barstartops': -1, 'xslp_gridheurselect': 6, 'xslp_findiv': -1, 'xslp_linquadbr': -1, 'xslp_cvname': '', 'xslp_deltaformat': '', 'xslp_ivname': '', 'xslp_minusdeltaformat': '', 'xslp_minuserrorformat': '', 'xslp_plusdeltaformat': '', 'xslp_pluserrorformat': '', 'xslp_sbname': '', 'xslp_tolname': '', 'xslp_updateformat': '', 'xslp_penaltyrowformat': '', 'xslp_penaltycolformat': '', 'xslp_sblorowformat': '', 'xslp_sbuprowformat': '', 'xslp_tracemask': '', 'xslp_iterfallbackops': '', 'xnlp_objsense': 1.0, 'xnlp_validationtol_a': 1e-05, 'xnlp_validationtol_r': 1e-05, 'xnlp_presolvezero': 1e-09, 'xnlp_validationtol_k': 1e-05, 'xnlp_evaluate': 0, 'xnlp_presolve': 1, 'xnlp_solver': -1, 'xnlp_threadsafeuserfunc': 0, 'xnlp_jacobian': -1, 'xnlp_hessian': -1, 'xnlp_maxtime': 0, 'xnlp_derivatives': 1, 'xnlp_presolvepasslimit': 20, 'xnlp_decompose': 0, 'xnlp_tracemaskops': -1, 'xnlp_reformulate': 511, 'xnlp_presolveops': 2104, 'xnlp_autotune': 1, 'xnlp_multistart_seed': 0, 'xnlp_multistart_poolsize': 2, 'xnlp_postsolve': 1, 'xnlp_deterministic': 1, 'xnlp_heurstrategy': -1, 'xnlp_echoxprsmessages': -1, 'xnlp_presolvelevel': 4, 'xnlp_probing': -1, 'xnlp_calcthreads': -1, 'xnlp_threads': -1, 'xnlp_gridheurselect': 6, 'xnlp_findiv': -1, 'xnlp_linquadbr': -1, 'xnlp_cvname': '', 'xnlp_ivname': '', 'xnlp_tracemask': '', 'xnlp_iterfallbackops': '', 'xktr_param_newpoint': 0, 'xktr_param_honorbnds': 0, 'xktr_param_algorithm': 0, 'xktr_param_bar_murule': 0, 'xktr_param_bar_feasible': 0, 'xktr_param_gradopt': 0, 'xktr_param_hessopt': 0, 'xktr_param_bar_initpt': 0, 'xktr_param_maxcgit': 0, 'xktr_param_maxit': 0, 'xktr_param_outlev': 0, 'xktr_param_scale': 0, 'xktr_param_soc': 0, 'xktr_param_delta': 0.0, 'xktr_param_bar_feasmodetol': 0.0, 'xktr_param_feastol': 0.0, 'xktr_param_feastolabs': 0.0, 'xktr_param_bar_initmu': 0.0, 'xktr_param_objrange': 0.0, 'xktr_param_opttol': 0.0, 'xktr_param_opttolabs': 0.0, 'xktr_param_pivot': 0.0, 'xktr_param_xtol': 0.0, 'xktr_param_debug': 0, 'xktr_param_multistart': 0, 'xktr_param_msmaxsolves': 0, 'xktr_param_msmaxbndrange': 0.0, 'xktr_param_lmsize': 0, 'xktr_param_bar_maxcrossit': 0, 'xktr_param_blasoption': 0, 'xktr_param_bar_maxrefactor': 0, 'xktr_param_bar_maxbacktrack': 0, 'xktr_param_bar_penrule': 0, 'xktr_param_bar_pencons': 0, 'xktr_param_msnumtosave': 0, 'xktr_param_mssavetol': 0.0, 'xktr_param_msterminate': 0, 'xktr_param_msstartptrange': 0.0, 'xktr_param_infeastol': 0.0, 'xktr_param_linsolver': 0, 'xktr_param_bar_directinterval': 0, 'xktr_param_presolve': 0, 'xktr_param_presolve_tol': 0.0, 'xktr_param_bar_switchrule': 0, 'xktr_param_ma_terminate': 0, 'xktr_param_msseed': 0, 'xktr_param_bar_relaxcons': 0, 'xktr_param_mip_method': 0, 'xktr_param_mip_branchrule': 0, 'xktr_param_mip_selectrule': 0, 'xktr_param_mip_intgapabs': 0.0, 'xktr_param_mip_intgaprel': 0.0, 'xktr_param_mip_outlevel': 0, 'xktr_param_mip_outinterval': 0, 'xktr_param_mip_debug': 0, 'xktr_param_mip_implicatns': 0, 'xktr_param_mip_gub_branch': 0, 'xktr_param_mip_knapsack': 0, 'xktr_param_mip_rounding': 0, 'xktr_param_mip_rootalg': 0, 'xktr_param_mip_lpalg': 0, 'xktr_param_mip_maxnodes': 0, 'xktr_param_mip_heuristic': 0, 'xktr_param_mip_heur_maxit': 0, 'xktr_param_mip_pseudoinit': 0, 'xktr_param_mip_strong_maxit': 0, 'xktr_param_mip_strong_candlim': 0, 'xktr_param_mip_strong_level': 0, 'xktr_param_par_numthreads': 0}\n",
            "<class 'dict'>\n"
          ]
        }
      ]
    },
    {
      "cell_type": "code",
      "metadata": {
        "colab": {
          "base_uri": "https://localhost:8080/"
        },
        "id": "IIsOAkIcNv6_",
        "outputId": "30950fb1-82ff-4a91-9030-22aca300d471"
      },
      "source": [
        "print(set_covering.getControl('maxnode'), \"\\n\")\n",
        "\n",
        "set_covering.setControl('maxnode', 100)\n",
        "print(set_covering.getControl('maxnode'), \"\\n\")\n",
        "\n",
        "set_covering.setControl({'maxnode': 20, 'presolve':0})\n",
        "print(set_covering.getControl('maxnode'))\n",
        "print(type(set_covering.getControl()))"
      ],
      "execution_count": null,
      "outputs": [
        {
          "output_type": "stream",
          "name": "stdout",
          "text": [
            "2147483647 \n",
            "\n",
            "100 \n",
            "\n",
            "20\n",
            "<class 'dict'>\n"
          ]
        }
      ]
    },
    {
      "cell_type": "markdown",
      "metadata": {
        "id": "d79TgShyl21H"
      },
      "source": [
        "# Try your self"
      ]
    },
    {
      "cell_type": "markdown",
      "metadata": {
        "id": "d4TEHZqy_MTJ"
      },
      "source": [
        "#1\n",
        "\n",
        "Get the knapsack problem, just riveseted in the following way\n",
        "\n",
        "Item  | Weight  | Rating | Availability\n",
        "------|---------|--------|--------\n",
        "Ant Repellent |1      | 2    | 4\n",
        "Beer          | 7     |  9   |2\n",
        "Blanket       | 4     | 3    |3\n",
        "Bratwurst     |3 |8|2\n",
        "Brownies      | 5| 10|1\n",
        "Frisbee       | 6| 6| 1\n",
        "Salad         |2| 2|3\n",
        "Watermelon    |7| 10| 1\n",
        "\n",
        "#2\n",
        "Same problem but now with 2 bags at disposal\n"
      ]
    },
    {
      "cell_type": "code",
      "source": [
        ""
      ],
      "metadata": {
        "id": "0-wYP3jD7cks"
      },
      "execution_count": null,
      "outputs": []
    }
  ]
}