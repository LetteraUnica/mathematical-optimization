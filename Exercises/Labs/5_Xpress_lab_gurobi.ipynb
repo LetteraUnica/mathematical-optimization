{
  "nbformat": 4,
  "nbformat_minor": 0,
  "metadata": {
    "colab": {
      "name": "5_Xpress_lab_2.ipynb",
      "provenance": [],
      "collapsed_sections": []
    },
    "kernelspec": {
      "name": "python3",
      "display_name": "Python 3"
    }
  },
  "cells": [
    {
      "cell_type": "markdown",
      "metadata": {
        "id": "kbC-CxzGX-sr"
      },
      "source": [
        "# Solving LP problems with Gurobi library\n",
        "\n",
        "https://www.gurobi.com/documentation/8.0/refman/index.html\n",
        "\n",
        "Andrea Gasparin: andrea.gasparin@PHD.units.it"
      ]
    },
    {
      "cell_type": "code",
      "metadata": {
        "colab": {
          "base_uri": "https://localhost:8080/"
        },
        "id": "rWmBr1HYRZfD",
        "outputId": "61fc431d-c93a-48c8-97f4-54105b970699"
      },
      "source": [
        "# install xpress (the solvere we will use)\n",
        "!pip install gurobipy\n",
        "# import xpress (usually as xp)\n",
        "import numpy as np\n",
        "import gurobipy as gb"
      ],
      "execution_count": null,
      "outputs": [
        {
          "output_type": "stream",
          "name": "stdout",
          "text": [
            "Collecting gurobipy\n",
            "  Downloading gurobipy-9.5.1-cp37-cp37m-manylinux2014_x86_64.whl (11.5 MB)\n",
            "\u001b[K     |████████████████████████████████| 11.5 MB 4.3 MB/s \n",
            "\u001b[?25hInstalling collected packages: gurobipy\n",
            "Successfully installed gurobipy-9.5.1\n"
          ]
        }
      ]
    },
    {
      "cell_type": "markdown",
      "metadata": {
        "id": "RV9-oBCm1t5e"
      },
      "source": [
        "\n",
        "#The assignment problem\n",
        "\n",
        "A company has 4 machines available for the assignment to 4 tasks. Any\n",
        "machine can be assigned to any task, but only one, and each task requires to be processed\n",
        "by one machine only. The cost required to set up each machine for the\n",
        "processing of each task is given in the table below.\n",
        "\n",
        " .|Task 1 |Task 2 |Task 3 |Task 4\n",
        "-------|-------|-------|-------|------\n",
        "Machine 1|13| 4| 7| 6\n",
        "Machine 2| 1| 11 |5 |4\n",
        "Machine 3| 6 |7 |2 |8\n",
        "Machine 4| 1| 3| 5| 9\n",
        "\n",
        "The company wants to minimise the total setup cost needed for the\n",
        "processing of all four tasks.\n",
        "\n",
        "It is intuitive to assign the decision variables as:\n",
        "\n",
        "$$\n",
        "x_{ij} = \\begin{cases} &1 \\quad \\text{if machine $i$ is assigned to process task $j$}\\\\\n",
        "&0 \\quad \\text{if machine $i$ is not assigned to process task $j$}\n",
        "\\end{cases}\n",
        "$$\n",
        "with $i = 1, 2, 3, 4$ and $j = 1, 2, 3, 4$.\n",
        "\n",
        "The problem can be then formulated as follow:\n",
        "\n",
        "\n",
        "$\n",
        "\\begin{gather}\n",
        "\\min 13x_{11} + 4x_{12} + 7x_{13} + 6x_{14}+\n",
        "x_{21} + 11x_{22} + 5x_{23} + 4x_{24}+\n",
        "6x_{31} + 7x_{32} + 2x_{33} + 8x_{34}+\n",
        "x_{41} + 3x_{42} + 5x_{43} + 9x_{44}\\\\\n",
        "x_{11} + x_{12} + x_{13} + x_{14} \\leq 1\\\\\n",
        "x_{21} + x_{22} + x_{23} + x_{24} \\leq 1\\\\\n",
        "x_{31} + x_{32} + x_{33} + x_{34} \\leq 1\\\\\n",
        "x_{41} + x_{42} + x_{43} + x_{44} \\leq 1\\\\\n",
        "x_{11} + x_{21} + x_{31} + x_{41} = 1\\\\\n",
        "x_{12} + x_{22} + x_{32} + x_{42} = 1\\\\\n",
        "x_{13} + x_{23} + x_{33} + x_{43} = 1\\\\\n",
        "x_{14} + x_{24} + x_{34} + x_{44} = 1\\\\\n",
        "x_{ij} \\in \\{0, 1\\},\\quad for\\quad i = 1, . . . , 4,\\; j = 1, . . . , 4\n",
        "\\end{gather}\n",
        "$\n",
        "\n",
        "Equivalently, defining \n",
        "\n",
        "$$\n",
        "c_{ij} = \\text{cost of machine $i$ to perform task $j$}\\\\\n",
        "I = \\{1,2,3,4\\}\\\\\n",
        "J = \\{1,2,3,4\\}\n",
        "$$\n",
        "\n",
        "we can rewrite the problem in a more compact way as:\n",
        "\n",
        "$\n",
        "\\begin{gather}\n",
        "\\min \\sum_{i\\in I,j\\in J} c_{ij}x_{ij}\\\\\n",
        "∑_{j\\in J} x_{ij}  \\leq 1 \\quad \\forall i \\in I\\\\\n",
        "∑_{i\\in I} x_{ij}  = 1 \\quad \\forall j \\in J\\\\\n",
        "x_{ij} \\in \\{0, 1\\},\\quad for\\quad i \\in I,\\; j \\in J\n",
        "\\end{gather}\n",
        "$"
      ]
    },
    {
      "cell_type": "code",
      "metadata": {
        "id": "c7KwQB0QZN5n",
        "colab": {
          "base_uri": "https://localhost:8080/"
        },
        "outputId": "d6fb94f1-25f5-40a5-fd3e-f79ac3de3025"
      },
      "source": [
        "assignment = gb.Model()\n",
        "assignment.modelSense = gb.GRB.MINIMIZE #declare mimization\n",
        "\n",
        "# assignment.setParam('OutputFlag', 0) suppress outputs, equivalent of xpress setControl('outputlog', 0)\n",
        "\n",
        "\n",
        "\n",
        "X = assignment.addVars( [(i,j) for i in range(4) for j in range(4)], vtype=gb.GRB.BINARY) #this way of declare vars does not allow to work with matrix multiplication (X is a tuple dict)\n",
        "\n",
        "I = range(4)\n",
        "J = range(4)\n",
        "\n",
        "costs = np.array([[13,\t4,\t7, 6],\n",
        "                \t[1,\t11,\t5, 4],\n",
        "                  [6,\t7,\t2, 8],\n",
        "                  [1,\t3,\t5, 9]])\n",
        "\n",
        "\n",
        "for i in I:\n",
        "  assignment.addConstr( gb.quicksum(X[i,j] for j in J) <= 1) #quicksum is the equivalent to xp.Sum\n",
        "\n",
        "for j in J:\n",
        "  assignment.addConstr( gb.quicksum(X[i,j] for i in I) == 1 )\n",
        "\n",
        "assignment.setObjective( \n",
        "    gb.quicksum( costs[i,j]*X[i,j]   for j in J for i in I)\n",
        "    )   \n",
        "\n",
        "assignment.optimize() #equivalent to solve() for xpress\n",
        "\n",
        "\n",
        "print( \"\\n\", type(X), X, \"\\n\")\n",
        "print(\"\\nSolution\")\n",
        "\n",
        "for i in I:\n",
        "  for j in J:\n",
        "    if X[i,j].x == 1:  #to access the variable value \n",
        "      print(\"Machine \", i, \" is assigned to task \", j)"
      ],
      "execution_count": null,
      "outputs": [
        {
          "output_type": "stream",
          "name": "stdout",
          "text": [
            "Gurobi Optimizer version 9.5.1 build v9.5.1rc2 (linux64)\n",
            "Thread count: 1 physical cores, 2 logical processors, using up to 2 threads\n",
            "Optimize a model with 8 rows, 16 columns and 32 nonzeros\n",
            "Model fingerprint: 0x6f06b897\n",
            "Variable types: 0 continuous, 16 integer (16 binary)\n",
            "Coefficient statistics:\n",
            "  Matrix range     [1e+00, 1e+00]\n",
            "  Objective range  [1e+00, 1e+01]\n",
            "  Bounds range     [1e+00, 1e+00]\n",
            "  RHS range        [1e+00, 1e+00]\n",
            "Found heuristic solution: objective 24.0000000\n",
            "Presolve time: 0.00s\n",
            "Presolved: 8 rows, 16 columns, 32 nonzeros\n",
            "Variable types: 0 continuous, 16 integer (16 binary)\n",
            "\n",
            "Root relaxation: objective 1.100000e+01, 6 iterations, 0.00 seconds (0.00 work units)\n",
            "\n",
            "    Nodes    |    Current Node    |     Objective Bounds      |     Work\n",
            " Expl Unexpl |  Obj  Depth IntInf | Incumbent    BestBd   Gap | It/Node Time\n",
            "\n",
            "*    0     0               0      11.0000000   11.00000  0.00%     -    0s\n",
            "\n",
            "Explored 1 nodes (6 simplex iterations) in 0.04 seconds (0.00 work units)\n",
            "Thread count was 2 (of 2 available processors)\n",
            "\n",
            "Solution count 2: 11 24 \n",
            "\n",
            "Optimal solution found (tolerance 1.00e-04)\n",
            "Best objective 1.100000000000e+01, best bound 1.100000000000e+01, gap 0.0000%\n",
            "\n",
            " <class 'gurobipy.tupledict'> {(0, 0): <gurobi.Var C0 (value -0.0)>, (0, 1): <gurobi.Var C1 (value 1.0)>, (0, 2): <gurobi.Var C2 (value -0.0)>, (0, 3): <gurobi.Var C3 (value -0.0)>, (1, 0): <gurobi.Var C4 (value 0.0)>, (1, 1): <gurobi.Var C5 (value -0.0)>, (1, 2): <gurobi.Var C6 (value -0.0)>, (1, 3): <gurobi.Var C7 (value 1.0)>, (2, 0): <gurobi.Var C8 (value -0.0)>, (2, 1): <gurobi.Var C9 (value -0.0)>, (2, 2): <gurobi.Var C10 (value 1.0)>, (2, 3): <gurobi.Var C11 (value -0.0)>, (3, 0): <gurobi.Var C12 (value 1.0)>, (3, 1): <gurobi.Var C13 (value 0.0)>, (3, 2): <gurobi.Var C14 (value -0.0)>, (3, 3): <gurobi.Var C15 (value -0.0)>} \n",
            "\n",
            "\n",
            "Solution\n",
            "Machine  0  is assigned to task  1\n",
            "Machine  1  is assigned to task  3\n",
            "Machine  2  is assigned to task  2\n",
            "Machine  3  is assigned to task  0\n"
          ]
        }
      ]
    },
    {
      "cell_type": "markdown",
      "source": [
        "\n",
        "\n",
        " Solution:\n",
        " [[-0.  1. -0. -0.]\n",
        " [-0. -0. -0.  1.]\n",
        " [-0. -0.  1. -0.]\n",
        " [ 1. -0. -0. -0.]] "
      ],
      "metadata": {
        "id": "8ccx7lHHNKPH"
      }
    },
    {
      "cell_type": "markdown",
      "metadata": {
        "id": "RKdEpq1NmQJe"
      },
      "source": [
        "#Set covering\n",
        "\n",
        "\n",
        "A typical application concerns facility location. Suppose we are given a\n",
        "set of potential sites $N = \\{1, . . . , n\\}$ for the location of fire stations. A\n",
        "station placed at $j$ costs $c_j$ . We are also given a set of communities\n",
        "$M = \\{1, . . . , m\\}$ that have to be protected. The subset of communities\n",
        "that can be protected from a station located at $j$ is $M_j$ . For example,\n",
        "$M_j$ might be the set of communities that can be reached from $j$ within 10\n",
        "minutes. Then the problem of choosing a minimum-cost set of locations\n",
        "for the fire stations such that each community can be reached from some\n",
        "fire station in 10 minutes is a set-covering problem.\n",
        "\n",
        "### Decision variables\n",
        "\n",
        "$$\n",
        "x_{j} = \\begin{cases} &1 \\quad \\text{if} \\; \\text{a station is placed in $j$}\\\\\n",
        "&0 \\quad \\text{otherwise}\n",
        "\\end{cases}\n",
        "$$\n",
        "\n",
        "### Obj\n",
        "\n",
        "$$\n",
        "\\min \\;\\sum_{j=1}^n c_j x_{j}\n",
        "$$\n",
        "\n",
        "###Constraints \n",
        "Let A be the $m \\times n$ incidence matrix of the family $\\{M_j\\}$ for $j \\in N$, that is, for $i \\in M$,\n",
        "\n",
        "$$\n",
        "a_{ij} =\\begin{cases} &1 \\quad \\text{if}\\; i \\in M_j\\\\\n",
        "&0 \\quad \\text{otherwise}\n",
        "\\end{cases}\n",
        "$$\n",
        "A solution $x \\in \\{0, 1\\}^n$ covers all sites if and only if  satisfies\n",
        "$$\n",
        "Ax ≥ \\overline{1}\n",
        "$$\n",
        "where $\\overline{1}$ is a $m$−vector all of whose components are equal to 1.\n",
        "\n",
        "\n",
        "###In this case\n",
        "Let \n",
        "$$\n",
        "M = \\{1, 2, 3, 4, 5\\}, \\\\\n",
        "\\{M\\} = \\{\\{1, 3, 5\\}, \\{2, 3\\}, \\{1, 4\\}, \\{3, 4, 5\\}, \\{2\\}, \\{5\\}, \\{1, 5\\}\\},\\\\\n",
        "c = [3, 5, 1, 9, 2, 4, 1].\n",
        "$$\n",
        " Hence,\n",
        "$$\n",
        "A=\n",
        "\\begin{pmatrix}\n",
        "1 &0 &1 &0 &0 &0 &1\\\\\n",
        "0 &1 &0 &0 &1 &0 &0\\\\\n",
        "1 &1 &0 &1 &0 &0 &0\\\\\n",
        "0 &0 &1 &1 &0 &0 &0\\\\\n",
        "1 &0 &0 &1 &0 &1 &1\\\\\n",
        "\\end{pmatrix}\n",
        "$$"
      ]
    },
    {
      "cell_type": "code",
      "metadata": {
        "colab": {
          "base_uri": "https://localhost:8080/"
        },
        "id": "55XzeU1wmQ0F",
        "outputId": "0bfcb920-4acc-4b9b-e6fe-0b9a25df9503"
      },
      "source": [
        "set_covering= gb.Model()\n",
        "set_covering.setParam('outputFlag', 0)\n",
        "set_covering.modelSense = gb.GRB.MINIMIZE\n",
        "\n",
        "costs = np.array([3,5,1,9,2,4,1])\n",
        "\n",
        "A = np.array([[1, 0, 1, 0, 0, 0, 1],\n",
        "              [0, 1, 0, 0, 1, 0, 0],\n",
        "              [1, 1, 0, 1, 0, 0, 0],\n",
        "              [0, 0, 1, 1, 0, 0, 0],\n",
        "              [1, 0, 0, 1, 0, 1, 1]])\n",
        "b = np.ones(5)\n",
        "x = set_covering.addMVar(7, vtype=gb.GRB.BINARY) # this allow mat operations, very similar (amd related) to np.arrays\n",
        "\n",
        "set_covering.addConstr( A @ x >= b )  # @ is the equivalent of xp.Dot\n",
        "set_covering.setObjective( costs @ x)\n",
        "\n",
        "set_covering.optimize()\n",
        "print(set_covering.status) # https://www.gurobi.com/documentation/9.5/refman/optimization_status_codes.html for all codes\n",
        "\n",
        "print( \"optimal\" if set_covering.status == 2 else (\"infeasible\" if set_covering.status == 3 else (\"unbounded\" if set_covering.status == 5 else \"check the link page for other status codes\")))\n",
        "\n",
        "\n",
        "print(\"\\n\\n\",x.x, type(x), type(x.x))"
      ],
      "execution_count": null,
      "outputs": [
        {
          "output_type": "stream",
          "name": "stdout",
          "text": [
            "2\n",
            "optimal\n",
            "\n",
            "\n",
            " [1. 0. 1. 0. 1. 0. 0.] <class 'gurobipy.MVar'> <class 'numpy.ndarray'>\n"
          ]
        }
      ]
    },
    {
      "cell_type": "markdown",
      "metadata": {
        "id": "8-O7NhEgNswq"
      },
      "source": [
        "## Parameter tuning\n",
        "\n",
        "for all params:\n",
        "\n",
        "https://www.gurobi.com/documentation/9.5/refman/parameters.html"
      ]
    },
    {
      "cell_type": "code",
      "metadata": {
        "colab": {
          "base_uri": "https://localhost:8080/"
        },
        "id": "t5zJ5iHnQ-RF",
        "outputId": "7eb57577-5327-4a6f-8d96-0a29b521a02f"
      },
      "source": [
        "print(set_covering.getParamInfo(\"timeLimit\"))\n"
      ],
      "execution_count": 29,
      "outputs": [
        {
          "output_type": "stream",
          "name": "stdout",
          "text": [
            "('timeLimit', <class 'float'>, inf, 0.0, inf, inf)\n"
          ]
        }
      ]
    },
    {
      "cell_type": "code",
      "metadata": {
        "colab": {
          "base_uri": "https://localhost:8080/"
        },
        "id": "IIsOAkIcNv6_",
        "outputId": "ccfea07f-0943-45d5-9890-e9b8144fb497"
      },
      "source": [
        "\n",
        "print(set_covering.setParam('TimeLimit', 5*60), \"\\n\")\n",
        "\n",
        "print(set_covering.getParamInfo(\"TimeLimit\"))\n",
        "\n",
        "print(set_covering.params.TimeLimit)\n"
      ],
      "execution_count": 34,
      "outputs": [
        {
          "output_type": "stream",
          "name": "stdout",
          "text": [
            "None \n",
            "\n",
            "('TimeLimit', <class 'float'>, 300.0, 0.0, inf, inf)\n",
            "300.0\n"
          ]
        }
      ]
    },
    {
      "cell_type": "code",
      "source": [
        ""
      ],
      "metadata": {
        "id": "2XvXVKk9mQHA"
      },
      "execution_count": null,
      "outputs": []
    }
  ]
}