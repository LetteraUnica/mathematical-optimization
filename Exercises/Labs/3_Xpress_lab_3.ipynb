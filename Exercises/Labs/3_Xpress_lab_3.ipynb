{
  "nbformat": 4,
  "nbformat_minor": 0,
  "metadata": {
    "colab": {
      "name": "3_Xpress_lab_3.ipynb",
      "provenance": [],
      "collapsed_sections": []
    },
    "kernelspec": {
      "name": "python3",
      "display_name": "Python 3"
    }
  },
  "cells": [
    {
      "cell_type": "markdown",
      "metadata": {
        "id": "kbC-CxzGX-sr"
      },
      "source": [
        "# Solving LP problems with Xpress library\n",
        "\n",
        "https://www.msi-jp.com/xpress/learning/square/01-python-interface.pdf\n",
        "\n",
        "Andrea Gasparin: andrea.gasparin@PHD.units.it"
      ]
    },
    {
      "cell_type": "code",
      "metadata": {
        "colab": {
          "base_uri": "https://localhost:8080/"
        },
        "id": "rWmBr1HYRZfD",
        "outputId": "58546efb-1632-43b0-d5fe-9b059e6c916b"
      },
      "source": [
        "# install xpress (the solvere we will use)\n",
        "!pip install xpress\n",
        "# import xpress (usually as xp)\n",
        "import xpress as xp\n",
        "import numpy as np"
      ],
      "execution_count": null,
      "outputs": [
        {
          "output_type": "stream",
          "name": "stdout",
          "text": [
            "Collecting xpress\n",
            "  Downloading xpress-8.13.5-cp37-cp37m-manylinux1_x86_64.whl (65.6 MB)\n",
            "\u001b[K     |████████████████████████████████| 65.6 MB 23 kB/s \n",
            "\u001b[?25hRequirement already satisfied: numpy>=1.8 in /usr/local/lib/python3.7/dist-packages (from xpress) (1.21.6)\n",
            "Installing collected packages: xpress\n",
            "Successfully installed xpress-8.13.5\n",
            "Using the Community license in this session. If you have a full Xpress license, first set the XPAUTH_PATH environment variable to the full path to your license file, xpauth.xpr, and then restart Python. If you want to use the FICO Community license and no longer want to see this message, set the XPAUTH_PATH environment variable to: /usr/local/lib/python3.7/dist-packages/xpress/license/community-xpauth.xpr\n",
            "NB: setting XPAUTH_PATH will also affect any other Xpress products installed on your system.\n"
          ]
        }
      ]
    },
    {
      "cell_type": "markdown",
      "source": [
        "### Solve the following Sudoku\n",
        "$$\n",
        "\\begin{aligned}\n",
        "&\\begin{array}{|ccc|ccc|ccc|}\n",
        "\\hline 7 & . & 8 & 2 & 5 & . & . & . &  . \\\\\n",
        ". & 4 &  . & 8 & . & . & 5 & . & .\\\\\n",
        "5 & . & . & . & . & . & 6 & . & . \\\\\n",
        "\\hline\n",
        "8 & . & . & 6 & . & . & . & 1 & 4 \\\\\n",
        ". & 1 & 9 & . & . & . & 2 & 6 & . \\\\\n",
        "2 & 6 & . & . & . & 1 & . & . & 5 \\\\\n",
        "\\hline\n",
        ". & . & 1 & . & . & . & . & . & . \\\\\n",
        ". & . & . & . & . & 8 & . & 5 & . \\\\\n",
        ". & . & . & . & 3 & 4 & 7 & . & 9 \\\\\n",
        "\\hline\n",
        "\\end{array}\n",
        "\\end{aligned}\n",
        "$$"
      ],
      "metadata": {
        "id": "olIH2EjZXyZw"
      }
    }
  ]
}