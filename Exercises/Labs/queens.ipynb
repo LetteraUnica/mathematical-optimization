{
 "cells": [
  {
   "cell_type": "code",
   "execution_count": 1,
   "metadata": {},
   "outputs": [],
   "source": [
    "import xpress as xp\n",
    "#xp.controls.outputlog = 0 # turn off output log\n",
    "\n",
    "import numpy as np\n",
    "import pylab as pl"
   ]
  },
  {
   "cell_type": "code",
   "execution_count": 2,
   "metadata": {},
   "outputs": [],
   "source": [
    "size = 8\n",
    "size_squared = size**2\n",
    "\n",
    "queens = xp.problem()"
   ]
  },
  {
   "cell_type": "code",
   "execution_count": 3,
   "metadata": {},
   "outputs": [],
   "source": [
    "x = np.array([xp.var(vartype=xp.binary) for _ in range(size_squared)]).reshape(size, size)\n",
    "queens.addVariable(x)"
   ]
  },
  {
   "cell_type": "code",
   "execution_count": 4,
   "metadata": {},
   "outputs": [],
   "source": [
    "queens.addConstraint(xp.Sum(x[i]) <= 1 for i in range(size))\n",
    "queens.addConstraint(xp.Sum(x[:, j]) <= 1 for j in range(size))\n",
    "\n",
    "for i in range(-size, size):\n",
    "    diagonal = np.diag(np.ones(size-np.abs(i)), k=i)\n",
    "    rotated_diagonal = np.rot90(diagonal)\n",
    "    queens.addConstraint(xp.Sum(x * diagonal) <= 1)\n",
    "    queens.addConstraint(xp.Sum(x * rotated_diagonal) <= 1)"
   ]
  },
  {
   "cell_type": "code",
   "execution_count": 5,
   "metadata": {},
   "outputs": [],
   "source": [
    "queens.setObjective(xp.Sum(x), sense=xp.maximize)"
   ]
  },
  {
   "cell_type": "code",
   "execution_count": 6,
   "metadata": {},
   "outputs": [
    {
     "name": "stdout",
     "output_type": "stream",
     "text": [
      "FICO Xpress v8.13.5, Community, solve started 1:16:48, May 1, 2022\n",
      "Heap usage: 361KB (peak 361KB, 304KB system)\n",
      "Maximizing MILP noname using up to 4 threads, with these control settings:\n",
      "OUTPUTLOG = 1\n",
      "Original problem has:\n",
      "        48 rows           64 cols          256 elements        64 globals\n",
      "Presolved problem has:\n",
      "        42 rows           64 cols          272 elements        64 globals\n",
      "Presolve finished in 0 seconds\n",
      "Heap usage: 406KB (peak 431KB, 304KB system)\n",
      "\n",
      "Coefficient range                    original                 solved        \n",
      "  Coefficients   [min,max] : [ 1.00e+00,  1.00e+00] / [ 1.00e+00,  1.00e+00]\n",
      "  RHS and bounds [min,max] : [ 1.00e+00,  1.00e+00] / [ 1.00e+00,  1.00e+00]\n",
      "  Objective      [min,max] : [ 1.00e+00,  1.00e+00] / [ 1.00e+00,  1.00e+00]\n",
      "Autoscaling applied standard scaling\n",
      "\n",
      "Symmetric problem: generators: 2, support set: 64\n",
      " Number of orbits: 10, largest orbit: 8\n",
      " Row orbits: 11, row support: 42\n",
      "Will try to keep branch and bound tree memory usage below 9.1GB\n",
      " *** Solution found:      .000000   Time:   0    Heuristic: T ***\n",
      " *** Solution found:     5.000000   Time:   0    Heuristic: e ***\n",
      "Starting concurrent solve with dual (1 thread)\n",
      "\n",
      " Concurrent-Solve,   0s\n",
      "            Dual        \n",
      "    objective   sum inf \n",
      " P  8.0000000   .0000000\n",
      "------- optimal --------\n",
      "Concurrent statistics:\n",
      "      Dual: 35 simplex iterations, 0.00s\n",
      "Optimal solution found\n",
      " \n",
      "   Its         Obj Value      S   Ninf  Nneg        Sum Inf  Time\n",
      "    35          8.000000      P      0     0        .000000     0\n",
      "Dual solved problem\n",
      "  35 simplex iterations in 0.00 seconds at time 0\n",
      "\n",
      "Final objective                       : 8.000000000000002e+00\n",
      "  Max primal violation      (abs/rel) : 3.331e-16 / 3.331e-16\n",
      "  Max dual violation        (abs/rel) : 3.460e-17 / 3.460e-17\n",
      "  Max complementarity viol. (abs/rel) :       0.0 /       0.0\n",
      "\n",
      "Starting root cutting & heuristics\n",
      " \n",
      " Its Type    BestSoln    BestBound   Sols    Add    Del     Gap     GInf   Time\n",
      "q            7.000000     8.000000      3                 12.50%       0      0\n",
      "   1  K      7.000000     8.000000      3     14      0   12.50%      18      0\n",
      "   2  K      7.000000     8.000000      3     18      6   12.50%      26      0\n",
      "   3  K      7.000000     8.000000      3     12     16   12.50%      31      0\n",
      "   4  K      7.000000     8.000000      3     12      9   12.50%      35      0\n",
      "   5  K      7.000000     8.000000      3     24     11   12.50%      36      0\n",
      "   6  K      7.000000     8.000000      3      5     18   12.50%      41      0\n",
      "   7  K      7.000000     8.000000      3     12      6   12.50%      41      0\n",
      "   8  K      7.000000     8.000000      3     13     11   12.50%      41      0\n",
      "   9  K      7.000000     8.000000      3     13     16   12.50%      38      0\n",
      "  10  K      7.000000     8.000000      3     11     10   12.50%      42      0\n",
      "  11  K      7.000000     8.000000      3     10      9   12.50%      42      0\n",
      "  12  K      7.000000     8.000000      3      4      8   12.50%      40      0\n",
      "  13  K      7.000000     8.000000      3      3      6   12.50%      42      0\n",
      "  14  K      7.000000     8.000000      3      5      3   12.50%      43      0\n",
      "  15  K      7.000000     8.000000      3      6     10   12.50%      45      1\n",
      "  16  G      7.000000     8.000000      3     11      0   12.50%      43      1\n",
      "  17  G      7.000000     8.000000      3     10     29   12.50%      36      1\n",
      "a            8.000000     8.000000      4                 -0.00%       0      1\n",
      " *** Search completed ***\n",
      "Uncrunching matrix\n",
      "Final MIP objective                   : 8.000000000000000e+00\n",
      "Final MIP bound                       : 7.999999999999996e+00\n",
      "  Solution time / primaldual integral :         1s/ 14.313763%\n",
      "  Number of solutions found / nodes   :         4 /         1\n",
      "  Max primal violation      (abs/rel) :       0.0 /       0.0\n",
      "  Max integer violation     (abs    ) :       0.0\n"
     ]
    }
   ],
   "source": [
    "queens.solve()"
   ]
  },
  {
   "cell_type": "code",
   "execution_count": 7,
   "metadata": {},
   "outputs": [
    {
     "data": {
      "text/plain": [
       "8.0"
      ]
     },
     "execution_count": 7,
     "metadata": {},
     "output_type": "execute_result"
    }
   ],
   "source": [
    "queens.getObjVal()"
   ]
  },
  {
   "cell_type": "code",
   "execution_count": 8,
   "metadata": {},
   "outputs": [
    {
     "data": {
      "text/plain": [
       "<matplotlib.image.AxesImage at 0x1583ad7b5e0>"
      ]
     },
     "execution_count": 8,
     "metadata": {},
     "output_type": "execute_result"
    },
    {
     "data": {
      "image/png": "[encoded data removed]",
      "text/plain": [
       "<Figure size 288x288 with 1 Axes>"
      ]
     },
     "metadata": {
      "needs_background": "light"
     },
     "output_type": "display_data"
    }
   ],
   "source": [
    "sol = np.array(queens.getSolution()).reshape(size, size)\n",
    "\n",
    "pl.matshow(sol)"
   ]
  }
 ],
 "metadata": {
  "interpreter": {
   "hash": "2a4961f4bd0df756dde565ebb4ae544abddfa7c654cb42033f70d271070244ac"
  },
  "kernelspec": {
   "display_name": "Python 3.9.7 ('base')",
   "language": "python",
   "name": "python3"
  },
  "language_info": {
   "codemirror_mode": {
    "name": "ipython",
    "version": 3
   },
   "file_extension": ".py",
   "mimetype": "text/x-python",
   "name": "python",
   "nbconvert_exporter": "python",
   "pygments_lexer": "ipython3",
   "version": "3.9.7"
  },
  "orig_nbformat": 4
 },
 "nbformat": 4,
 "nbformat_minor": 2
}
