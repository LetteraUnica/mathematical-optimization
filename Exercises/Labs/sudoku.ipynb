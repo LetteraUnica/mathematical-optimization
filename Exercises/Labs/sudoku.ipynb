{
 "cells": [
  {
   "cell_type": "code",
   "execution_count": 1,
   "metadata": {},
   "outputs": [],
   "source": [
    "import xpress as xp\n",
    "#xp.controls.outputlog = 0 # turn off output log\n",
    "\n",
    "import numpy as np\n",
    "import pylab as pl"
   ]
  },
  {
   "cell_type": "markdown",
   "metadata": {},
   "source": [
    "### Solve the following Sudoku\n",
    "$$\n",
    "\\begin{aligned}\n",
    "&\\begin{array}{|ccc|ccc|ccc|}\n",
    "\\hline 7 & . & 8 & 2 & 5 & . & . & . &  . \\\\\n",
    ". & 4 &  . & 8 & . & . & 5 & . & .\\\\\n",
    "5 & . & . & . & . & . & 6 & . & . \\\\\n",
    "\\hline\n",
    "8 & . & . & 6 & . & . & . & 1 & 4 \\\\\n",
    ". & 1 & 9 & . & . & . & 2 & 6 & . \\\\\n",
    "2 & 6 & . & . & . & 1 & . & . & 5 \\\\\n",
    "\\hline\n",
    ". & . & 1 & . & . & . & . & . & . \\\\\n",
    ". & . & . & . & . & 8 & . & 5 & . \\\\\n",
    ". & . & . & . & 3 & 4 & 7 & . & 9 \\\\\n",
    "\\hline\n",
    "\\end{array}\n",
    "\\end{aligned}\n",
    "$$"
   ]
  },
  {
   "cell_type": "code",
   "execution_count": 2,
   "metadata": {},
   "outputs": [],
   "source": [
    "size = 9\n",
    "size_squared = size*size\n",
    "square_size = 3\n",
    "\n",
    "A = np.array([[7,0,8,2,5,0,0,0,0],\n",
    "              [0,4,0,8,0,0,5,0,0],\n",
    "              [5,0,0,0,0,0,6,0,0],\n",
    "              [8,0,0,6,0,0,0,1,4],\n",
    "              [0,1,9,0,0,0,2,6,0],\n",
    "              [2,6,0,0,0,1,0,0,5],\n",
    "              [0,0,1,0,0,0,0,0,0],\n",
    "              [0,0,0,0,0,8,0,5,0],\n",
    "              [0,0,0,0,3,4,7,0,9]])"
   ]
  },
  {
   "cell_type": "markdown",
   "metadata": {},
   "source": [
    "## First Solution\n",
    "Efficent but hard to read"
   ]
  },
  {
   "cell_type": "code",
   "execution_count": 54,
   "metadata": {},
   "outputs": [
    {
     "name": "stdout",
     "output_type": "stream",
     "text": [
      "\n"
     ]
    }
   ],
   "source": [
    "sudoku = xp.problem()"
   ]
  },
  {
   "cell_type": "code",
   "execution_count": 55,
   "metadata": {},
   "outputs": [],
   "source": [
    "x = np.array([[[xp.var(vartype=xp.binary) for _ in range(size)] for _ in range(size)] for _ in range(size)], dtype=xp.npvar)\n",
    "sudoku.addVariable(x)"
   ]
  },
  {
   "cell_type": "code",
   "execution_count": 56,
   "metadata": {},
   "outputs": [],
   "source": [
    "_ = [[sudoku.addConstraint(xp.Sum(x[i, j]) == 1) for i in range(size)] for j in range(size)]"
   ]
  },
  {
   "cell_type": "code",
   "execution_count": 57,
   "metadata": {},
   "outputs": [],
   "source": [
    "_ = [[sudoku.addConstraint(xp.Sum(x[i, :, k]) == 1) for i in range(size)] for k in range(size)]"
   ]
  },
  {
   "cell_type": "code",
   "execution_count": 58,
   "metadata": {},
   "outputs": [],
   "source": [
    "_ = [[sudoku.addConstraint(xp.Sum(x[:, j, k]) == 1) for j in range(size)] for k in range(size)]"
   ]
  },
  {
   "cell_type": "code",
   "execution_count": 59,
   "metadata": {},
   "outputs": [],
   "source": [
    "_ = [[[sudoku.addConstraint(xp.Sum(x[i:i+square_size, j:j+square_size, k]) == 1) for i in range(0, size, square_size)] for j in range(0, size, square_size)] for k in range(size)]"
   ]
  },
  {
   "cell_type": "code",
   "execution_count": 60,
   "metadata": {},
   "outputs": [],
   "source": [
    "for i in range(size):\n",
    "    for j in range(size):\n",
    "        if A[i, j] != 0:\n",
    "            sudoku.addConstraint(x[i, j, A[i, j]-1] == 1)"
   ]
  },
  {
   "cell_type": "code",
   "execution_count": 61,
   "metadata": {},
   "outputs": [
    {
     "name": "stdout",
     "output_type": "stream",
     "text": [
      "FICO Xpress v8.13.5, Community, solve started 5:07:19, Apr 29, 2022\n",
      "Heap usage: 662KB (peak 662KB, 495KB system)\n",
      "Minimizing MILP noname using up to 4 threads, with these control settings:\n",
      "OUTPUTLOG = 1\n",
      "Original problem has:\n",
      "       352 rows          729 cols         2944 elements       729 globals\n",
      "Presolved problem has:\n",
      "        31 rows           39 cols          141 elements        39 globals\n",
      "LP relaxation tightened\n",
      "Presolve finished in 0 seconds\n",
      "Heap usage: 698KB (peak 1293KB, 495KB system)\n",
      "\n",
      "Coefficient range                    original                 solved        \n",
      "  Coefficients   [min,max] : [ 1.00e+00,  1.00e+00] / [ 1.00e+00,  1.00e+00]\n",
      "  RHS and bounds [min,max] : [ 1.00e+00,  1.00e+00] / [ 1.00e+00,  1.00e+00]\n",
      "  Objective      [min,max] : [      0.0,       0.0] / [      0.0,       0.0]\n",
      "Autoscaling applied standard scaling\n",
      "\n",
      "Will try to keep branch and bound tree memory usage below 9.1GB\n",
      "Starting concurrent solve with dual (1 thread)\n",
      "\n",
      " Concurrent-Solve,   0s\n",
      "            Dual        \n",
      "    objective   dual inf\n",
      " D   .0000000   .0000000\n",
      "------- optimal --------\n",
      "Concurrent statistics:\n",
      "      Dual: 21 simplex iterations, 0.00s\n",
      "Optimal solution found\n",
      " \n",
      "   Its         Obj Value      S   Ninf  Nneg   Sum Dual Inf  Time\n",
      "    21           .000000      D      0     0        .000000     0\n",
      "Dual solved problem\n",
      "  21 simplex iterations in 0.00 seconds at time 0\n",
      "\n",
      "Final objective                       : 0.000000000000000e+00\n",
      "  Max primal violation      (abs/rel) :       0.0 /       0.0\n",
      "  Max dual violation        (abs/rel) :       0.0 /       0.0\n",
      "  Max complementarity viol. (abs/rel) :       0.0 /       0.0\n",
      "\n",
      "Starting root cutting & heuristics\n",
      " \n",
      " Its Type    BestSoln    BestBound   Sols    Add    Del     Gap     GInf   Time\n",
      "a             .000000      .000000      1               0.0e+00        0      0\n",
      " *** Search completed ***\n",
      "Uncrunching matrix\n",
      "Final MIP objective                   : 0.000000000000000e-01\n",
      "Final MIP bound                       : 0.000000000000000e-01\n",
      "  Solution time / primaldual integral :         0s/ 98.664394%\n",
      "  Number of solutions found / nodes   :         1 /         1\n",
      "  Max primal violation      (abs/rel) :       0.0 /       0.0\n",
      "  Max integer violation     (abs    ) :       0.0\n"
     ]
    }
   ],
   "source": [
    "sudoku.solve()"
   ]
  },
  {
   "cell_type": "code",
   "execution_count": 65,
   "metadata": {},
   "outputs": [
    {
     "data": {
      "text/plain": [
       "array([[7, 3, 8, 2, 5, 6, 4, 9, 1],\n",
       "       [1, 4, 6, 8, 7, 9, 5, 3, 2],\n",
       "       [5, 9, 2, 4, 1, 3, 6, 8, 7],\n",
       "       [8, 5, 7, 6, 9, 2, 3, 1, 4],\n",
       "       [3, 1, 9, 7, 4, 5, 2, 6, 8],\n",
       "       [2, 6, 4, 3, 8, 1, 9, 7, 5],\n",
       "       [9, 2, 1, 5, 6, 7, 8, 4, 3],\n",
       "       [4, 7, 3, 9, 2, 8, 1, 5, 6],\n",
       "       [6, 8, 5, 1, 3, 4, 7, 2, 9]])"
      ]
     },
     "execution_count": 65,
     "metadata": {},
     "output_type": "execute_result"
    }
   ],
   "source": [
    "sol = np.array(sudoku.getSolution()).reshape(size, size, size).astype(int)\n",
    "sol@np.arange(1, 10)"
   ]
  },
  {
   "cell_type": "markdown",
   "metadata": {},
   "source": [
    "## Second Solution\n",
    "Less efficent but easier to read"
   ]
  },
  {
   "cell_type": "code",
   "execution_count": null,
   "metadata": {},
   "outputs": [],
   "source": [
    "sudoku = xp.problem()"
   ]
  },
  {
   "cell_type": "code",
   "execution_count": 26,
   "metadata": {},
   "outputs": [],
   "source": [
    "x = np.array([[xp.var(vartype=xp.integer, lb=1, ub=size) for _ in range(size)] for _ in range(size)], dtype=xp.npvar)\n",
    "sudoku.addVariable(x)"
   ]
  },
  {
   "cell_type": "code",
   "execution_count": 27,
   "metadata": {},
   "outputs": [],
   "source": [
    "def add_inequality_constraint(problem, x1, x2, M=size, eps=1):\n",
    "    y = xp.var(vartype=xp.binary)\n",
    "    problem.addVariable(y)\n",
    "    problem.addConstraint(x1 - x2 >= eps - M * y)\n",
    "    problem.addConstraint(x1 - x2 <= -eps + M * (1 - y))\n",
    "\n",
    "def add_inequality_constraints_between_variables(problem, variables):\n",
    "    vars = variables.ravel()\n",
    "    for i in range(len(vars)):\n",
    "        for j in range(i+1, len(vars)):\n",
    "            add_inequality_constraint(problem, vars[i], vars[j])"
   ]
  },
  {
   "cell_type": "code",
   "execution_count": 28,
   "metadata": {},
   "outputs": [],
   "source": [
    "# numbers on rows and columns must be different\n",
    "for i in range(size):\n",
    "    add_inequality_constraints_between_variables(sudoku, x[i])\n",
    "    add_inequality_constraints_between_variables(sudoku, x[:, i])\n",
    "\n",
    "# numbers in a square must be different\n",
    "for i in range(0, size, square_size):\n",
    "    for j in range(0, size, square_size):\n",
    "        add_inequality_constraints_between_variables(sudoku, x[i:i+square_size, j:j+square_size])"
   ]
  },
  {
   "cell_type": "code",
   "execution_count": 29,
   "metadata": {},
   "outputs": [],
   "source": [
    "for i in range(size):\n",
    "    for j in range(size):\n",
    "        if A[i, j] != 0:\n",
    "            sudoku.addConstraint(x[i, j] == A[i, j])"
   ]
  },
  {
   "cell_type": "code",
   "execution_count": 30,
   "metadata": {},
   "outputs": [
    {
     "name": "stdout",
     "output_type": "stream",
     "text": [
      "FICO Xpress v8.13.5, Community, solve started 4:59:51, Apr 29, 2022\n",
      "Heap usage: 3573KB (peak 3573KB, 957KB system)\n",
      "Minimizing MILP noname using up to 4 threads, with these control settings:\n",
      "OUTPUTLOG = 1\n",
      "Original problem has:\n",
      "      1972 rows         1053 cols         5860 elements      1053 globals\n",
      "Presolved problem has:\n",
      "       657 rows          357 cols         1807 elements       357 globals\n",
      "LP relaxation tightened\n",
      "Presolve finished in 0 seconds\n",
      "Heap usage: 3876KB (peak 4636KB, 957KB system)\n",
      "\n",
      "Coefficient range                    original                 solved        \n",
      "  Coefficients   [min,max] : [ 1.00e+00,  9.00e+00] / [ 1.25e-01,  1.75e+00]\n",
      "  RHS and bounds [min,max] : [ 1.00e+00,  9.00e+00] / [ 1.25e-01,  9.00e+00]\n",
      "  Objective      [min,max] : [      0.0,       0.0] / [      0.0,       0.0]\n",
      "Autoscaling applied standard scaling\n",
      "\n",
      "Will try to keep branch and bound tree memory usage below 9.1GB\n",
      "Starting concurrent solve with dual (1 thread)\n",
      "\n",
      " Concurrent-Solve,   0s\n",
      "            Dual        \n",
      "    objective   sum inf \n",
      " P   .0000000   .0000000\n",
      "------- optimal --------\n",
      "Concurrent statistics:\n",
      "      Dual: 193 simplex iterations, 0.00s\n",
      "Optimal solution found\n",
      " \n",
      "   Its         Obj Value      S   Ninf  Nneg        Sum Inf  Time\n",
      "   193           .000000      P      0     0        .000000     0\n",
      "Dual solved problem\n",
      "  193 simplex iterations in 0.00 seconds at time 0\n",
      "\n",
      "Final objective                       : 0.000000000000000e+00\n",
      "  Max primal violation      (abs/rel) :       0.0 /       0.0\n",
      "  Max dual violation        (abs/rel) :       0.0 /       0.0\n",
      "  Max complementarity viol. (abs/rel) :       0.0 /       0.0\n",
      "\n",
      "Starting root cutting & heuristics\n",
      " \n",
      " Its Type    BestSoln    BestBound   Sols    Add    Del     Gap     GInf   Time\n",
      "q             .000000      .000000      1               0.0e+00        0      0\n",
      " *** Search completed ***\n",
      "Uncrunching matrix\n",
      "Final MIP objective                   : 0.000000000000000e-01\n",
      "Final MIP bound                       : 0.000000000000000e-01\n",
      "  Solution time / primaldual integral :         0s/ 99.497145%\n",
      "  Number of solutions found / nodes   :         1 /         1\n",
      "  Max primal violation      (abs/rel) :       0.0 /       0.0\n",
      "  Max integer violation     (abs    ) :       0.0\n"
     ]
    }
   ],
   "source": [
    "sudoku.solve()"
   ]
  },
  {
   "cell_type": "code",
   "execution_count": 31,
   "metadata": {},
   "outputs": [
    {
     "data": {
      "text/plain": [
       "array([[7, 3, 8, 2, 5, 6, 4, 9, 1],\n",
       "       [1, 4, 6, 8, 7, 9, 5, 3, 2],\n",
       "       [5, 9, 2, 4, 1, 3, 6, 8, 7],\n",
       "       [8, 5, 7, 6, 9, 2, 3, 1, 4],\n",
       "       [3, 1, 9, 7, 4, 5, 2, 6, 8],\n",
       "       [2, 6, 4, 3, 8, 1, 9, 7, 5],\n",
       "       [9, 2, 1, 5, 6, 7, 8, 4, 3],\n",
       "       [4, 7, 3, 9, 2, 8, 1, 5, 6],\n",
       "       [6, 8, 5, 1, 3, 4, 7, 2, 9]])"
      ]
     },
     "execution_count": 31,
     "metadata": {},
     "output_type": "execute_result"
    }
   ],
   "source": [
    "sol = np.array(sudoku.getSolution()[:size_squared]).reshape(size, size).astype(int)\n",
    "\n",
    "sol"
   ]
  }
 ],
 "metadata": {
  "interpreter": {
   "hash": "2a4961f4bd0df756dde565ebb4ae544abddfa7c654cb42033f70d271070244ac"
  },
  "kernelspec": {
   "display_name": "Python 3.9.7 ('base')",
   "language": "python",
   "name": "python3"
  },
  "language_info": {
   "codemirror_mode": {
    "name": "ipython",
    "version": 3
   },
   "file_extension": ".py",
   "mimetype": "text/x-python",
   "name": "python",
   "nbconvert_exporter": "python",
   "pygments_lexer": "ipython3",
   "version": "3.9.7"
  },
  "orig_nbformat": 4
 },
 "nbformat": 4,
 "nbformat_minor": 2
}
