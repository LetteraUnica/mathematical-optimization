{
 "cells": [
  {
   "cell_type": "code",
   "execution_count": 1,
   "metadata": {},
   "outputs": [],
   "source": [
    "import numpy as np\n",
    "import gurobipy as gb"
   ]
  },
  {
   "cell_type": "markdown",
   "metadata": {},
   "source": [
    "# TSDAP\n",
    "## Time Dependent Activity Scheduling Problem\n",
    "\n",
    "$\\tau_i(t_i)$ is the time required to complete activity $i$ at time $t_i$.  \n",
    "$[e_i, l_i]$ are the earliest start time and latest end time of activity $i$.  \n",
    "$\\rho_i(t_i)$ is the resource consumption of activity $i$ at time $t_i$.  \n",
    "$Q$ is the total resource capacity  \n",
    "$\\theta_i(t_i) = t_i + \\tau_i(t_i)$ is the completion time function.  \n",
    "\n",
    "$$\\min_{t_j} \\theta_n(t_n) = \\min_{t_j} t_n + \\tau_n(t_n)$$\n",
    "\n",
    "subject to\n",
    "\n",
    "$$\\theta_i(t_i) \\le t_{i+1}$$\n",
    "$$\\sum_{i=1}^{n} \\rho_i(t_i) \\le Q$$\n",
    "$$t_i \\in [e_i, l_i]$$\n",
    "\n",
    "We assume the FIFO property: $\\theta_i(t) \\le \\theta_i(t')$ if $t \\le t'$"
   ]
  },
  {
   "cell_type": "code",
   "execution_count": 75,
   "metadata": {},
   "outputs": [],
   "source": [
    "resources = 100\n",
    "n_activities = 20\n",
    "eps = 0.1\n",
    "t_start = 0\n",
    "t_end = 10\n",
    "n_steps = int((t_end - t_start) / eps)\n",
    "t = np.linspace(t_start, t_end, n_steps, endpoint=False) + eps / 2"
   ]
  },
  {
   "cell_type": "code",
   "execution_count": 68,
   "metadata": {},
   "outputs": [],
   "source": [
    "class Discretizer:\n",
    "    def __init__(self, min, max, steps):\n",
    "        self.min = min\n",
    "        self.max = max\n",
    "        self.steps = steps\n",
    "        self.step_size = (max - min) / steps\n",
    "        self.half_size = self.step_size / 2\n",
    "\n",
    "    def index_to_value(self, index):\n",
    "        return self.min + index * self.step_size + self.half_size\n",
    "\n",
    "    def value_to_index(self, value):\n",
    "        return int((value - self.min) / self.step_size) \n",
    "\n",
    "discretizer = Discretizer(t_start, t_end, n_steps)"
   ]
  },
  {
   "cell_type": "code",
   "execution_count": 83,
   "metadata": {},
   "outputs": [],
   "source": [
    "def my_tau(start):\n",
    "    return np.sin(start) + 1\n",
    "\n",
    "\n",
    "def my_rho(start):\n",
    "    return np.cos(start) + 1"
   ]
  },
  {
   "cell_type": "code",
   "execution_count": null,
   "metadata": {},
   "outputs": [],
   "source": [
    "# https://stackoverflow.com/questions/65613295/tuple-like-lexographical-max-in-numpy\n",
    "def lexargmax_by_partition(x):\n",
    "    view = np.ndarray(x.shape[0], dtype=[('', x.dtype)] * x.shape[1], buffer=x)\n",
    "    return np.argpartition(view, -1)[-1]\n"
   ]
  },
  {
   "cell_type": "code",
   "execution_count": 84,
   "metadata": {},
   "outputs": [],
   "source": [
    "from dataclasses import dataclass\n",
    "from collections.abc import Callable\n",
    "\n",
    "@dataclass\n",
    "class Activity:\n",
    "    start: float\n",
    "    end: float\n",
    "    duration: Callable[[float], float]\n",
    "    resources: Callable[[float], float]\n",
    "    name: str = None\n",
    "\n",
    "    def completion_time(self, start):\n",
    "        return start + self.duration(start)\n",
    "\n",
    "activities = [Activity(i, 2*(i+1), my_tau, my_rho) for i in range(n_activities)]"
   ]
  },
  {
   "cell_type": "code",
   "execution_count": 85,
   "metadata": {},
   "outputs": [],
   "source": [
    "tdasp = gb.Model()\n",
    "x = tdasp.addMVar((n_activities, n_steps), vtype=gb.GRB.BINARY)"
   ]
  },
  {
   "cell_type": "code",
   "execution_count": 3,
   "metadata": {},
   "outputs": [
    {
     "name": "stdout",
     "output_type": "stream",
     "text": [
      "Restricted license - for non-production use only - expires 2023-10-25\n",
      "Gurobi Optimizer version 9.5.1 build v9.5.1rc2 (linux64)\n",
      "Thread count: 4 physical cores, 4 logical processors, using up to 4 threads\n",
      "Optimize a model with 8 rows, 16 columns and 32 nonzeros\n",
      "Model fingerprint: 0x6f06b897\n",
      "Variable types: 0 continuous, 16 integer (16 binary)\n",
      "Coefficient statistics:\n",
      "  Matrix range     [1e+00, 1e+00]\n",
      "  Objective range  [1e+00, 1e+01]\n",
      "  Bounds range     [1e+00, 1e+00]\n",
      "  RHS range        [1e+00, 1e+00]\n",
      "Found heuristic solution: objective 24.0000000\n",
      "Presolve time: 0.00s\n",
      "Presolved: 8 rows, 16 columns, 32 nonzeros\n",
      "Variable types: 0 continuous, 16 integer (16 binary)\n",
      "\n",
      "Root relaxation: objective 1.100000e+01, 6 iterations, 0.00 seconds (0.00 work units)\n",
      "\n",
      "    Nodes    |    Current Node    |     Objective Bounds      |     Work\n",
      " Expl Unexpl |  Obj  Depth IntInf | Incumbent    BestBd   Gap | It/Node Time\n",
      "\n",
      "*    0     0               0      11.0000000   11.00000  0.00%     -    0s\n",
      "\n",
      "Explored 1 nodes (6 simplex iterations) in 0.02 seconds (0.00 work units)\n",
      "Thread count was 4 (of 4 available processors)\n",
      "\n",
      "Solution count 2: 11 24 \n",
      "\n",
      "Optimal solution found (tolerance 1.00e-04)\n",
      "Best objective 1.100000000000e+01, best bound 1.100000000000e+01, gap 0.0000%\n",
      "\n",
      " <class 'gurobipy.tupledict'> {(0, 0): <gurobi.Var C0 (value -0.0)>, (0, 1): <gurobi.Var C1 (value 1.0)>, (0, 2): <gurobi.Var C2 (value -0.0)>, (0, 3): <gurobi.Var C3 (value -0.0)>, (1, 0): <gurobi.Var C4 (value 0.0)>, (1, 1): <gurobi.Var C5 (value -0.0)>, (1, 2): <gurobi.Var C6 (value -0.0)>, (1, 3): <gurobi.Var C7 (value 1.0)>, (2, 0): <gurobi.Var C8 (value -0.0)>, (2, 1): <gurobi.Var C9 (value -0.0)>, (2, 2): <gurobi.Var C10 (value 1.0)>, (2, 3): <gurobi.Var C11 (value -0.0)>, (3, 0): <gurobi.Var C12 (value 1.0)>, (3, 1): <gurobi.Var C13 (value 0.0)>, (3, 2): <gurobi.Var C14 (value -0.0)>, (3, 3): <gurobi.Var C15 (value -0.0)>} \n",
      "\n",
      "\n",
      "Solution\n",
      "Machine  0  is assigned to task  1\n",
      "Machine  1  is assigned to task  3\n",
      "Machine  2  is assigned to task  2\n",
      "Machine  3  is assigned to task  0\n"
     ]
    }
   ],
   "source": [
    "assignment = gb.Model()\n",
    "assignment.modelSense = gb.GRB.MINIMIZE #declare mimization\n",
    "\n",
    "# assignment.setParam('OutputFlag', 0) suppress outputs, equivalent of xpress setControl('outputlog', 0)\n",
    "\n",
    "X = assignment.addVars( [(i,j) for i in range(4) for j in range(4)], vtype=gb.GRB.BINARY) #this way of declare vars does not allow to work with matrix multiplication (X is a tuple dict)\n",
    "\n",
    "I = range(4)\n",
    "J = range(4)\n",
    "\n",
    "costs = np.array([[13,\t4,\t7, 6],\n",
    "                \t[1,\t11,\t5, 4],\n",
    "                  [6,\t7,\t2, 8],\n",
    "                  [1,\t3,\t5, 9]])\n",
    "\n",
    "\n",
    "for i in I:\n",
    "  assignment.addConstr( gb.quicksum(X[i,j] for j in J) <= 1) #quicksum is the equivalent to xp.Sum\n",
    "\n",
    "for j in J:\n",
    "  assignment.addConstr( gb.quicksum(X[i,j] for i in I) == 1 )\n",
    "\n",
    "assignment.setObjective( \n",
    "    gb.quicksum( costs[i,j]*X[i,j]   for j in J for i in I)\n",
    "    )   \n",
    "\n",
    "assignment.optimize() #equivalent to solve() for xpress\n"
   ]
  }
 ],
 "metadata": {
  "interpreter": {
   "hash": "f38bca3c9600444284abf86780be38c386e032d708dbe2e8970d98e9b2d0aa36"
  },
  "kernelspec": {
   "display_name": "Python 3.9.7 ('base')",
   "language": "python",
   "name": "python3"
  },
  "language_info": {
   "codemirror_mode": {
    "name": "ipython",
    "version": 3
   },
   "file_extension": ".py",
   "mimetype": "text/x-python",
   "name": "python",
   "nbconvert_exporter": "python",
   "pygments_lexer": "ipython3",
   "version": "3.9.7"
  },
  "orig_nbformat": 4
 },
 "nbformat": 4,
 "nbformat_minor": 2
}
