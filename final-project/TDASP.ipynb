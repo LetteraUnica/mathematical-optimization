{
 "cells": [
  {
   "cell_type": "code",
   "execution_count": 1,
   "metadata": {},
   "outputs": [],
   "source": [
    "import numpy as np\n",
    "import gurobipy as gb\n",
    "import pylab as pl\n",
    "\n",
    "from src import *"
   ]
  },
  {
   "cell_type": "markdown",
   "metadata": {},
   "source": [
    "# TSDAP\n",
    "## Time Dependent Activity Scheduling Problem"
   ]
  },
  {
   "cell_type": "code",
   "execution_count": 2,
   "metadata": {},
   "outputs": [],
   "source": [
    "Q = 200\n",
    "n_activities = 100\n",
    "eps = 0.5\n",
    "discretizer = TimeDiscretizer(eps)\n",
    "activities = [Activity(i, 4*(i+1), my_tau, my_rho) for i in range(n_activities)]\n",
    "\n",
    "V = []\n",
    "q = []\n",
    "for activity in activities:\n",
    "    times = discretizer.discretize_activity(activity)\n",
    "    V.append(dict([(i, time) for i, time in enumerate(times)]))\n",
    "    q.append(dict([(i, activity.resources(time)) for i, time in enumerate(times)]))"
   ]
  },
  {
   "cell_type": "code",
   "execution_count": 17,
   "metadata": {},
   "outputs": [
    {
     "name": "stdout",
     "output_type": "stream",
     "text": [
      "Solved!\n"
     ]
    }
   ],
   "source": [
    "final_activity, l, p = TEN_solve(V, activities, q, Q)"
   ]
  },
  {
   "cell_type": "code",
   "execution_count": 18,
   "metadata": {},
   "outputs": [
    {
     "data": {
      "text/plain": [
       "257.60403574705543"
      ]
     },
     "execution_count": 18,
     "metadata": {},
     "output_type": "execute_result"
    }
   ],
   "source": [
    "activities[-1].completion_time(V[-1][final_activity[1]])"
   ]
  },
  {
   "cell_type": "code",
   "execution_count": 19,
   "metadata": {},
   "outputs": [
    {
     "data": {
      "text/plain": [
       "[(0, 2),\n",
       " (1, 6),\n",
       " (2, 7),\n",
       " (3, 13),\n",
       " (4, 15),\n",
       " (5, 17),\n",
       " (6, 21),\n",
       " (7, 22),\n",
       " (8, 28),\n",
       " (9, 30),\n",
       " (10, 32),\n",
       " (11, 36),\n",
       " (12, 37),\n",
       " (13, 39),\n",
       " (14, 43),\n",
       " (15, 44),\n",
       " (16, 50),\n",
       " (17, 52),\n",
       " (18, 53),\n",
       " (19, 56),\n",
       " (20, 59),\n",
       " (21, 65),\n",
       " (22, 67),\n",
       " (23, 69),\n",
       " (24, 73),\n",
       " (25, 74),\n",
       " (26, 80),\n",
       " (27, 82),\n",
       " (28, 84),\n",
       " (29, 88),\n",
       " (30, 89),\n",
       " (31, 91),\n",
       " (32, 95),\n",
       " (33, 96),\n",
       " (34, 102),\n",
       " (35, 104),\n",
       " (36, 106),\n",
       " (37, 110),\n",
       " (38, 111),\n",
       " (39, 117),\n",
       " (40, 119),\n",
       " (41, 121),\n",
       " (42, 125),\n",
       " (43, 126),\n",
       " (44, 132),\n",
       " (45, 134),\n",
       " (46, 136),\n",
       " (47, 140),\n",
       " (48, 141),\n",
       " (49, 146),\n",
       " (50, 149),\n",
       " (51, 156),\n",
       " (52, 158),\n",
       " (53, 164),\n",
       " (54, 167),\n",
       " (55, 173),\n",
       " (56, 175),\n",
       " (57, 177),\n",
       " (58, 181),\n",
       " (59, 182),\n",
       " (60, 188),\n",
       " (61, 190),\n",
       " (62, 192),\n",
       " (63, 196),\n",
       " (64, 197),\n",
       " (65, 202),\n",
       " (66, 205),\n",
       " (67, 207),\n",
       " (68, 211),\n",
       " (69, 212),\n",
       " (70, 218),\n",
       " (71, 221),\n",
       " (72, 227),\n",
       " (73, 229),\n",
       " (74, 230),\n",
       " (75, 233),\n",
       " (76, 236),\n",
       " (77, 242),\n",
       " (78, 244),\n",
       " (79, 246),\n",
       " (80, 250),\n",
       " (81, 251),\n",
       " (82, 257),\n",
       " (83, 259),\n",
       " (84, 261),\n",
       " (85, 265),\n",
       " (86, 266),\n",
       " (87, 268),\n",
       " (88, 272),\n",
       " (89, 273),\n",
       " (90, 279),\n",
       " (91, 281),\n",
       " (92, 282),\n",
       " (93, 285),\n",
       " (94, 288),\n",
       " (95, 294),\n",
       " (96, 296),\n",
       " (97, 298),\n",
       " (98, 302),\n",
       " (99, 315)]"
      ]
     },
     "execution_count": 19,
     "metadata": {},
     "output_type": "execute_result"
    }
   ],
   "source": [
    "for t, time in p[-1].items():\n",
    "    if time is not None:\n",
    "        last = time\n",
    "        break\n",
    "\n",
    "path = [final_activity, last]\n",
    "while last[0] > 0:\n",
    "    last = p[last[0]][last[1]]\n",
    "    path.append(last)\n",
    "\n",
    "path[::-1]"
   ]
  },
  {
   "cell_type": "code",
   "execution_count": 85,
   "metadata": {},
   "outputs": [],
   "source": [
    "tdasp = gb.Model()\n",
    "x = tdasp.addMVar((n_activities, n_steps), vtype=gb.GRB.BINARY)"
   ]
  },
  {
   "cell_type": "code",
   "execution_count": 3,
   "metadata": {},
   "outputs": [
    {
     "name": "stdout",
     "output_type": "stream",
     "text": [
      "Restricted license - for non-production use only - expires 2023-10-25\n",
      "Gurobi Optimizer version 9.5.1 build v9.5.1rc2 (linux64)\n",
      "Thread count: 4 physical cores, 4 logical processors, using up to 4 threads\n",
      "Optimize a model with 8 rows, 16 columns and 32 nonzeros\n",
      "Model fingerprint: 0x6f06b897\n",
      "Variable types: 0 continuous, 16 integer (16 binary)\n",
      "Coefficient statistics:\n",
      "  Matrix range     [1e+00, 1e+00]\n",
      "  Objective range  [1e+00, 1e+01]\n",
      "  Bounds range     [1e+00, 1e+00]\n",
      "  RHS range        [1e+00, 1e+00]\n",
      "Found heuristic solution: objective 24.0000000\n",
      "Presolve time: 0.00s\n",
      "Presolved: 8 rows, 16 columns, 32 nonzeros\n",
      "Variable types: 0 continuous, 16 integer (16 binary)\n",
      "\n",
      "Root relaxation: objective 1.100000e+01, 6 iterations, 0.00 seconds (0.00 work units)\n",
      "\n",
      "    Nodes    |    Current Node    |     Objective Bounds      |     Work\n",
      " Expl Unexpl |  Obj  Depth IntInf | Incumbent    BestBd   Gap | It/Node Time\n",
      "\n",
      "*    0     0               0      11.0000000   11.00000  0.00%     -    0s\n",
      "\n",
      "Explored 1 nodes (6 simplex iterations) in 0.02 seconds (0.00 work units)\n",
      "Thread count was 4 (of 4 available processors)\n",
      "\n",
      "Solution count 2: 11 24 \n",
      "\n",
      "Optimal solution found (tolerance 1.00e-04)\n",
      "Best objective 1.100000000000e+01, best bound 1.100000000000e+01, gap 0.0000%\n",
      "\n",
      " <class 'gurobipy.tupledict'> {(0, 0): <gurobi.Var C0 (value -0.0)>, (0, 1): <gurobi.Var C1 (value 1.0)>, (0, 2): <gurobi.Var C2 (value -0.0)>, (0, 3): <gurobi.Var C3 (value -0.0)>, (1, 0): <gurobi.Var C4 (value 0.0)>, (1, 1): <gurobi.Var C5 (value -0.0)>, (1, 2): <gurobi.Var C6 (value -0.0)>, (1, 3): <gurobi.Var C7 (value 1.0)>, (2, 0): <gurobi.Var C8 (value -0.0)>, (2, 1): <gurobi.Var C9 (value -0.0)>, (2, 2): <gurobi.Var C10 (value 1.0)>, (2, 3): <gurobi.Var C11 (value -0.0)>, (3, 0): <gurobi.Var C12 (value 1.0)>, (3, 1): <gurobi.Var C13 (value 0.0)>, (3, 2): <gurobi.Var C14 (value -0.0)>, (3, 3): <gurobi.Var C15 (value -0.0)>} \n",
      "\n",
      "\n",
      "Solution\n",
      "Machine  0  is assigned to task  1\n",
      "Machine  1  is assigned to task  3\n",
      "Machine  2  is assigned to task  2\n",
      "Machine  3  is assigned to task  0\n"
     ]
    }
   ],
   "source": [
    "assignment = gb.Model()\n",
    "assignment.modelSense = gb.GRB.MINIMIZE #declare mimization\n",
    "\n",
    "# assignment.setParam('OutputFlag', 0) suppress outputs, equivalent of xpress setControl('outputlog', 0)\n",
    "\n",
    "X = assignment.addVars( [(i,j) for i in range(4) for j in range(4)], vtype=gb.GRB.BINARY) #this way of declare vars does not allow to work with matrix multiplication (X is a tuple dict)\n",
    "\n",
    "I = range(4)\n",
    "J = range(4)\n",
    "\n",
    "costs = np.array([[13,\t4,\t7, 6],\n",
    "                \t[1,\t11,\t5, 4],\n",
    "                  [6,\t7,\t2, 8],\n",
    "                  [1,\t3,\t5, 9]])\n",
    "\n",
    "\n",
    "for i in I:\n",
    "  assignment.addConstr( gb.quicksum(X[i,j] for j in J) <= 1) #quicksum is the equivalent to xp.Sum\n",
    "\n",
    "for j in J:\n",
    "  assignment.addConstr( gb.quicksum(X[i,j] for i in I) == 1 )\n",
    "\n",
    "assignment.setObjective( \n",
    "    gb.quicksum( costs[i,j]*X[i,j]   for j in J for i in I)\n",
    "    )   \n",
    "\n",
    "assignment.optimize() #equivalent to solve() for xpress\n"
   ]
  }
 ],
 "metadata": {
  "interpreter": {
   "hash": "f38bca3c9600444284abf86780be38c386e032d708dbe2e8970d98e9b2d0aa36"
  },
  "kernelspec": {
   "display_name": "Python 3.9.7 ('base')",
   "language": "python",
   "name": "python3"
  },
  "language_info": {
   "codemirror_mode": {
    "name": "ipython",
    "version": 3
   },
   "file_extension": ".py",
   "mimetype": "text/x-python",
   "name": "python",
   "nbconvert_exporter": "python",
   "pygments_lexer": "ipython3",
   "version": "3.9.7"
  },
  "orig_nbformat": 4
 },
 "nbformat": 4,
 "nbformat_minor": 2
}
