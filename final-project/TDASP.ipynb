{
 "cells": [
  {
   "cell_type": "code",
   "execution_count": 2,
   "metadata": {},
   "outputs": [],
   "source": [
    "import numpy as np\n",
    "import gurobipy as gb\n",
    "import pylab as pl\n",
    "\n",
    "from src import *"
   ]
  },
  {
   "cell_type": "markdown",
   "metadata": {},
   "source": [
    "# TSDAP\n",
    "## Time Dependent Activity Scheduling Problem"
   ]
  },
  {
   "cell_type": "code",
   "execution_count": 17,
   "metadata": {},
   "outputs": [],
   "source": [
    "n_activities = 30\n",
    "Q = 2*n_activities\n",
    "eps = 1.\n",
    "discretizer = TimeDiscretizer(eps)\n",
    "activities = [Activity(60*i, 60*(i+1), my_tau, my_rho) for i in range(n_activities)]\n",
    "\n",
    "V = []\n",
    "q = []\n",
    "for activity in activities:\n",
    "    times = discretizer.discretize_activity(activity)\n",
    "    V.append(dict([(i, time) for i, time in enumerate(times)]))\n",
    "    q.append(dict([(i, activity.resources(time)) for i, time in enumerate(times)]))"
   ]
  },
  {
   "cell_type": "code",
   "execution_count": 18,
   "metadata": {},
   "outputs": [
    {
     "name": "stdout",
     "output_type": "stream",
     "text": [
      "79.3 ms ± 187 µs per loop (mean ± std. dev. of 7 runs, 10 loops each)\n"
     ]
    },
    {
     "data": {
      "text/plain": [
       "Completion time: 421.59\n",
       "Resources consumed: 12.78\n",
       "Nodes visited: 39"
      ]
     },
     "execution_count": 18,
     "metadata": {},
     "output_type": "execute_result"
    }
   ],
   "source": [
    "%timeit sol = TEN_solve(V, activities, q, Q)\n",
    "sol"
   ]
  },
  {
   "cell_type": "code",
   "execution_count": 19,
   "metadata": {},
   "outputs": [
    {
     "name": "stdout",
     "output_type": "stream",
     "text": [
      "121 ms ± 341 µs per loop (mean ± std. dev. of 7 runs, 10 loops each)\n"
     ]
    },
    {
     "data": {
      "text/plain": [
       "Completion time: 421.59\n",
       "Resources consumed: 12.78\n",
       "Nodes visited: 39"
      ]
     },
     "execution_count": 19,
     "metadata": {},
     "output_type": "execute_result"
    }
   ],
   "source": [
    "%timeit sol = DDD_solve(activities, Q, discretizer)\n",
    "sol"
   ]
  },
  {
   "cell_type": "code",
   "execution_count": 20,
   "metadata": {},
   "outputs": [
    {
     "data": {
      "text/plain": [
       "[<matplotlib.lines.Line2D at 0x7fe1e9af3610>]"
      ]
     },
     "execution_count": 20,
     "metadata": {},
     "output_type": "execute_result"
    },
    {
     "data": {
      "image/png": "[encoded data removed]",
      "text/plain": [
       "<Figure size 432x288 with 1 Axes>"
      ]
     },
     "metadata": {
      "needs_background": "light"
     },
     "output_type": "display_data"
    }
   ],
   "source": [
    "a = []\n",
    "Qs = []\n",
    "for Q in np.linspace(1.5*n_activities, 2.5*n_activities, 100):\n",
    "    sol = TEN_solve(V, activities, q, Q)\n",
    "    if sol is not None:\n",
    "        Qs.append(Q)\n",
    "        a.append(sol.completion_time())\n",
    "\n",
    "pl.plot(Qs, a)"
   ]
  },
  {
   "cell_type": "markdown",
   "metadata": {},
   "source": [
    "## Gurobi"
   ]
  },
  {
   "cell_type": "code",
   "execution_count": null,
   "metadata": {},
   "outputs": [],
   "source": [
    "tdasp = gb.Model()\n",
    "x = tdasp.addMVar((n_activities, n_steps), vtype=gb.GRB.BINARY)"
   ]
  },
  {
   "cell_type": "code",
   "execution_count": null,
   "metadata": {},
   "outputs": [
    {
     "name": "stdout",
     "output_type": "stream",
     "text": [
      "Restricted license - for non-production use only - expires 2023-10-25\n",
      "Gurobi Optimizer version 9.5.1 build v9.5.1rc2 (linux64)\n",
      "Thread count: 4 physical cores, 4 logical processors, using up to 4 threads\n",
      "Optimize a model with 8 rows, 16 columns and 32 nonzeros\n",
      "Model fingerprint: 0x6f06b897\n",
      "Variable types: 0 continuous, 16 integer (16 binary)\n",
      "Coefficient statistics:\n",
      "  Matrix range     [1e+00, 1e+00]\n",
      "  Objective range  [1e+00, 1e+01]\n",
      "  Bounds range     [1e+00, 1e+00]\n",
      "  RHS range        [1e+00, 1e+00]\n",
      "Found heuristic solution: objective 24.0000000\n",
      "Presolve time: 0.00s\n",
      "Presolved: 8 rows, 16 columns, 32 nonzeros\n",
      "Variable types: 0 continuous, 16 integer (16 binary)\n",
      "\n",
      "Root relaxation: objective 1.100000e+01, 6 iterations, 0.00 seconds (0.00 work units)\n",
      "\n",
      "    Nodes    |    Current Node    |     Objective Bounds      |     Work\n",
      " Expl Unexpl |  Obj  Depth IntInf | Incumbent    BestBd   Gap | It/Node Time\n",
      "\n",
      "*    0     0               0      11.0000000   11.00000  0.00%     -    0s\n",
      "\n",
      "Explored 1 nodes (6 simplex iterations) in 0.02 seconds (0.00 work units)\n",
      "Thread count was 4 (of 4 available processors)\n",
      "\n",
      "Solution count 2: 11 24 \n",
      "\n",
      "Optimal solution found (tolerance 1.00e-04)\n",
      "Best objective 1.100000000000e+01, best bound 1.100000000000e+01, gap 0.0000%\n",
      "\n",
      " <class 'gurobipy.tupledict'> {(0, 0): <gurobi.Var C0 (value -0.0)>, (0, 1): <gurobi.Var C1 (value 1.0)>, (0, 2): <gurobi.Var C2 (value -0.0)>, (0, 3): <gurobi.Var C3 (value -0.0)>, (1, 0): <gurobi.Var C4 (value 0.0)>, (1, 1): <gurobi.Var C5 (value -0.0)>, (1, 2): <gurobi.Var C6 (value -0.0)>, (1, 3): <gurobi.Var C7 (value 1.0)>, (2, 0): <gurobi.Var C8 (value -0.0)>, (2, 1): <gurobi.Var C9 (value -0.0)>, (2, 2): <gurobi.Var C10 (value 1.0)>, (2, 3): <gurobi.Var C11 (value -0.0)>, (3, 0): <gurobi.Var C12 (value 1.0)>, (3, 1): <gurobi.Var C13 (value 0.0)>, (3, 2): <gurobi.Var C14 (value -0.0)>, (3, 3): <gurobi.Var C15 (value -0.0)>} \n",
      "\n",
      "\n",
      "Solution\n",
      "Machine  0  is assigned to task  1\n",
      "Machine  1  is assigned to task  3\n",
      "Machine  2  is assigned to task  2\n",
      "Machine  3  is assigned to task  0\n"
     ]
    }
   ],
   "source": [
    "assignment = gb.Model()\n",
    "assignment.modelSense = gb.GRB.MINIMIZE #declare mimization\n",
    "\n",
    "# assignment.setParam('OutputFlag', 0) suppress outputs, equivalent of xpress setControl('outputlog', 0)\n",
    "\n",
    "X = assignment.addVars( [(i,j) for i in range(4) for j in range(4)], vtype=gb.GRB.BINARY) #this way of declare vars does not allow to work with matrix multiplication (X is a tuple dict)\n",
    "\n",
    "I = range(4)\n",
    "J = range(4)\n",
    "\n",
    "costs = np.array([[13,\t4,\t7, 6],\n",
    "                \t[1,\t11,\t5, 4],\n",
    "                  [6,\t7,\t2, 8],\n",
    "                  [1,\t3,\t5, 9]])\n",
    "\n",
    "\n",
    "for i in I:\n",
    "  assignment.addConstr( gb.quicksum(X[i,j] for j in J) <= 1) #quicksum is the equivalent to xp.Sum\n",
    "\n",
    "for j in J:\n",
    "  assignment.addConstr( gb.quicksum(X[i,j] for i in I) == 1 )\n",
    "\n",
    "assignment.setObjective( \n",
    "    gb.quicksum( costs[i,j]*X[i,j]   for j in J for i in I)\n",
    "    )   \n",
    "\n",
    "assignment.optimize() #equivalent to solve() for xpress\n"
   ]
  }
 ],
 "metadata": {
  "interpreter": {
   "hash": "f38bca3c9600444284abf86780be38c386e032d708dbe2e8970d98e9b2d0aa36"
  },
  "kernelspec": {
   "display_name": "Python 3.9.7 ('base')",
   "language": "python",
   "name": "python3"
  },
  "language_info": {
   "codemirror_mode": {
    "name": "ipython",
    "version": 3
   },
   "file_extension": ".py",
   "mimetype": "text/x-python",
   "name": "python",
   "nbconvert_exporter": "python",
   "pygments_lexer": "ipython3",
   "version": "3.9.7"
  },
  "orig_nbformat": 4
 },
 "nbformat": 4,
 "nbformat_minor": 2
}
